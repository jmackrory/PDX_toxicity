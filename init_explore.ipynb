{
 "cells": [
  {
   "cell_type": "markdown",
   "metadata": {
    "ein.tags": "worksheet-0",
    "slideshow": {
     "slide_type": "-"
    }
   },
   "source": [
    "# Toxicity in Wikipedia Comments\n",
    "\n",
    "This is a parallel work to any work on the wikipedia toxicity data on the same topic.\n",
    "This is using the dataset from\n",
    "\"Wulczyn, Ellery; Thain, Nithum; Dixon, Lucas (2016): Wikipedia Detox. figshare. doi.org/10.6084/m9.figshare.4054689\"\n",
    "This data has not been cleaned yet, and has not had multiple categories for the variety of toxity introduced yet.\n",
    "\n",
    "The Kaggle competition uses this data in its training.\n",
    "This initial analysis looks at the data, and implements tokenization, Naive Bayes, and a Deep Neural Network.\n",
    "There's also some material considering methods for building a SVM.\n",
    "This is succeeded by kaggle_anlt.ipynb, which runs further with the model building, but has less focus on\n",
    "exploration.\n",
    "\n",
    "Beware: Lots of swearing, racism, homophobia, misogyny is contained within due to nature of the comments.\n",
    "And the fact I have searched for nasty terms as a sanity check on how the methods are working.\n"
   ]
  },
  {
   "cell_type": "markdown",
   "metadata": {
    "ein.tags": "worksheet-0",
    "slideshow": {
     "slide_type": "-"
    }
   },
   "source": [
    "Looking at the comments data, we'll need to clean the data quite a bit (lots of newlines, weird characters).\n",
    "There is also a lot of wikipedia markup, and mis-spelled words.\n",
    "\n",
    "My rough plan is to build up a lexicon, tokenize that data, and try to build a Naive Bayes model.  (Maybe later a Recurrent Neural network model?)\n",
    "\n",
    "Cleaning:\n",
    "* Clean data : How to remove newlines (search/replace: NEWLINE with '')  (done)\n",
    "* Tokenize (convert words to indices) (done)\n",
    "* Stemming words\n",
    "* Balancing data set\n",
    "* Match up comments, and review scores (done)\n",
    "* Search for gibberish words (make a new \"feature\" for badly spelled comments)\n",
    "* Spelling: one of the easiest ways to avoid a word based system is to misspell words, \"fck you\".\n",
    "            This does suggest perhaps working with character n-grams, rather than just words. \n",
    "\n",
    "Embeddings:\n",
    "These are necessary to reduce the dimensionality of the problem to a scale that will fit in memory.  \n",
    "   * SVD - use SVD on the term-frequency matrix. Will use truncated SVD.  \n",
    "   * word2vec - train vectors for words based on surrounding contexts (can use pre-trained ones)\n",
    "   * Latent Factor Analysis - maybe useful prelude or alternative for building up embeddings.\n",
    "                            - ALS is similar to SVD, but not guaranteed to be orthogonal.\n",
    "   * Keep only most common words (in both toxic/non-toxic), or highest probability of toxic/non-toxic\n",
    "\n",
    "Other Analysis possibilities:\n",
    "* Naive Bayes\n",
    "    - can find most important words\n",
    "    - simple, easy to understand baseline.\n",
    "* Support Vector Machine\n",
    "    - try ensemble method (split the data into batches, and train an SVM on each batch.  Then do a committee vote.)\n",
    "      This turns O(n_sample^3) scaling into O(n_sample^3/n_batch^2) scaling on the training.\n",
    "      This is effectively treating the kernel matrix as if it were block-diagonal, as it omits correlations between datasets.\n",
    "      Perhaps running multiple copies with different random splits would work?\n",
    "* Deep Neural Network\n",
    "    - Build a network using the term-frequency matrix as inputs.\n",
    "    - Extends the naive Bayes method.  (Might be automatic way of doing some of that SVM stuff?)\n",
    "    - Employ dropout for regularization, alongside L2 penalties.  \n",
    "     \n",
    "* Recurrent Neural Network\n",
    "    - Build up word embeddings (word2vec), or just use the pretrained ones.\n",
    "    - This one runs at the sentence/paragraph level and keeps the temporal structure.\n",
    "    - Use LSTM/GRU cells, with a couple layers. \n",
    "    - Also dropout, l2 penalties\n",
    "\n",
    "Metrics:\n",
    "    - F1 :harmonic mean of precision and recall\n",
    "    - log-loss $N^{-1}\\sum_{j=1}^N\\sum_c y_{jc}\\log \\hat{y}_{jc}$, where $j$ runs over observations, and $c$ runs over classes.\n",
    "    - AUROC: Something like Gini coefficient?  (Plot the true-positive/false-positive curve as the decision threshold $t$ is varied.)\n",
    "The last two were used as Kaggle metrics.  They just changed over to the column average AUC-ROC metric.  Apparently this is less sensitive to leader-board climbing than the log-loss. "
   ]
  },
  {
   "cell_type": "code",
   "execution_count": 2,
   "metadata": {
    "autoscroll": false,
    "collapsed": false,
    "ein.tags": "worksheet-0",
    "slideshow": {
     "slide_type": "-"
    }
   },
   "outputs": [],
   "source": [
    "import pandas as pd\n",
    "import nltk as nltk\n",
    "import numpy as np\n",
    "import matplotlib.pyplot as plt\n",
    "import scipy.sparse as sparse\n",
    "\n",
    "from sklearn.feature_extraction.text import CountVectorizer, TfidfVectorizer\n",
    "from sklearn.metrics import log_loss,f1_score,roc_auc_score\n",
    "\n",
    "from IPython.display import clear_output\n",
    "import time\n",
    "\n",
    "#my code\n",
    "from bayes import cond_prob, naive_bayes\n",
    "%load_ext autoreload\n",
    "%autoreload 2"
   ]
  },
  {
   "cell_type": "code",
   "execution_count": 2,
   "metadata": {
    "autoscroll": false,
    "collapsed": false,
    "ein.tags": "worksheet-0",
    "slideshow": {
     "slide_type": "-"
    }
   },
   "outputs": [
    {
     "name": "stdout",
     "output_type": "stream",
     "text": [
      "(159686, 7) (1598289, 4)\n"
     ]
    }
   ],
   "source": [
    "#df_com = pd.read_csv('data/toxicity_annotated_comments_unanimous.tsv',sep='\\t')\n",
    "#df_rate = pd.read_csv('data/toxicity_annotations_unanimous.tsv',sep='\\t')\n",
    "df_com = pd.read_csv('data/toxicity_annotated_comments.tsv',sep='\\t')\n",
    "df_rate = pd.read_csv('data/toxicity_annotations.tsv',sep='\\t')\n",
    "\n",
    "#make rev_id an integer\n",
    "df_com['rev_id']=df_com['rev_id'].astype(int)\n",
    "df_rate['rev_id']=df_rate['rev_id'].astype(int)\n",
    "\n",
    "print(df_com.shape, df_rate.shape)"
   ]
  },
  {
   "cell_type": "code",
   "execution_count": 42,
   "metadata": {
    "autoscroll": false,
    "collapsed": false,
    "ein.tags": "worksheet-0",
    "slideshow": {
     "slide_type": "-"
    }
   },
   "outputs": [
    {
     "data": {
      "text/plain": [
       "Index(['rev_id', 'comment', 'year', 'logged_in', 'ns', 'sample', 'split',\n",
       "       'scores', 'mean_toxic', 'median_toxic', 'toxic', 'comment_clean'],\n",
       "      dtype='object')"
      ]
     },
     "execution_count": 42,
     "metadata": {},
     "output_type": "execute_result"
    }
   ],
   "source": [
    "df_com.columns"
   ]
  },
  {
   "cell_type": "code",
   "execution_count": 3,
   "metadata": {
    "autoscroll": false,
    "collapsed": false,
    "ein.tags": "worksheet-0",
    "slideshow": {
     "slide_type": "-"
    }
   },
   "outputs": [
    {
     "data": {
      "text/plain": [
       "<matplotlib.figure.Figure at 0x7efbb7b64be0>"
      ]
     },
     "metadata": {},
     "output_type": "display_data"
    }
   ],
   "source": [
    "#When are the comments made?\n",
    "plt.figure()\n",
    "bin_arr=np.sort(df_com['year'].unique())\n",
    "df_com['year'].hist(bins=bin_arr)\n",
    "plt.title('Total Comments')\n",
    "plt.show()"
   ]
  },
  {
   "cell_type": "code",
   "execution_count": 4,
   "metadata": {
    "autoscroll": false,
    "collapsed": false,
    "ein.tags": "worksheet-0",
    "slideshow": {
     "slide_type": "-"
    }
   },
   "outputs": [],
   "source": [
    "#make a new column in df_com with array of worker_ids, and toxicity\n",
    "df_com['scores']=None\n",
    "\n",
    "#since 'rev_id' is sorted, can take first difference, and find where\n",
    "#there are changes in 'rev_id'.  Those set the boundaries for changes.\n",
    "change_indices=df_rate.index[df_rate['rev_id'].diff()!=0].values\n",
    "\n",
    "#use numpy split to split the array into many sub-arrays.\n",
    "arr=df_rate[['worker_id','toxicity_score']].values\n",
    "split_arr=np.split(arr,change_indices)\n",
    "#drop first index as empty\n",
    "split_arr.pop(0)\n",
    "df_com['scores']=split_arr"
   ]
  },
  {
   "cell_type": "code",
   "execution_count": 3,
   "metadata": {
    "autoscroll": false,
    "collapsed": false,
    "ein.tags": "worksheet-0",
    "slideshow": {
     "slide_type": "-"
    }
   },
   "outputs": [],
   "source": [
    "def score_mean(score_list):\n",
    "    \"\"\"score_mean\n",
    "    Compute mean of toxicity scores for input array.\n",
    "    Array is first (and only) element in the input list.\n",
    "    Compute mean running down the rows.  Could be updated to include weighted sum of weights\n",
    "    \"\"\"\n",
    "    s = np.mean(score_list[:,1])\n",
    "    return s\n",
    "\n",
    "def score_median(score_list):\n",
    "    \"\"\"score_median\n",
    "    Compute median of toxicity scores for input array.\n",
    "    Array is first (and only) element in the input list.\n",
    "    Compute mean running down the rows.  Could be updated to include weighted sum of weights\n",
    "    \"\"\"\n",
    "    s = np.median(score_list[:,1])\n",
    "    return s\n"
   ]
  },
  {
   "cell_type": "code",
   "execution_count": 5,
   "metadata": {
    "autoscroll": false,
    "collapsed": false,
    "ein.tags": "worksheet-0",
    "slideshow": {
     "slide_type": "-"
    }
   },
   "outputs": [],
   "source": [
    "#Make a new column computing mean, median scores\n",
    "df_com['mean_toxic']=df_com['scores'].apply(score_mean)\n",
    "df_com['median_toxic']=df_com['scores'].apply(score_median)"
   ]
  },
  {
   "cell_type": "code",
   "execution_count": null,
   "metadata": {
    "autoscroll": false,
    "collapsed": false,
    "ein.tags": "worksheet-0",
    "slideshow": {
     "slide_type": "-"
    }
   },
   "outputs": [],
   "source": []
  },
  {
   "cell_type": "code",
   "execution_count": 12,
   "metadata": {
    "autoscroll": false,
    "collapsed": false,
    "ein.tags": "worksheet-0",
    "slideshow": {
     "slide_type": "-"
    }
   },
   "outputs": [],
   "source": [
    "#So 373 duplicated comments.  Awesome.  \n",
    "dup_msk=df_com['comment'].duplicated(keep=False)\n",
    "#I'm just going to drop these duplicates\n",
    "df_com.drop_duplicates(subset='comment',inplace=True)"
   ]
  },
  {
   "cell_type": "code",
   "execution_count": 13,
   "metadata": {
    "autoscroll": false,
    "collapsed": false,
    "ein.tags": "worksheet-0",
    "slideshow": {
     "slide_type": "-"
    }
   },
   "outputs": [
    {
     "name": "stdout",
     "output_type": "stream",
     "text": [
      "Total comments: 159463. Toxic comments: 15353. Toxic Fraction: 0.09627938769495117\n"
     ]
    }
   ],
   "source": [
    "#Define toxic comments as those where the median is below -1, or -2.\n",
    "#-1 captures more comments, but with more variance in what is considered toxic/unhelpful.\n",
    "df_com['toxic']=(df_com['median_toxic']<=-1)\n",
    "Ntoxic=df_com['toxic'].sum()\n",
    "Ntot=len(df_com)\n",
    "print(\"Total comments: {}. Toxic comments: {}. Toxic Fraction: {}\".format(Ntot,Ntoxic,Ntoxic/Ntot))"
   ]
  },
  {
   "cell_type": "code",
   "execution_count": 17,
   "metadata": {
    "autoscroll": false,
    "collapsed": false,
    "ein.tags": "worksheet-0",
    "slideshow": {
     "slide_type": "-"
    }
   },
   "outputs": [
    {
     "data": {
      "text/plain": [
       "<matplotlib.figure.Figure at 0x7f10d074eeb8>"
      ]
     },
     "metadata": {},
     "output_type": "display_data"
    }
   ],
   "source": [
    "#When are the comments made?  Has the toxicity changed over time?\n",
    "#Note this is on the full dataset, with test/training/dev splits. \n",
    "plt.figure()\n",
    "bin_arr=np.sort(df_com['year'].unique())\n",
    "#non-toxic comments\n",
    "plt.subplot(2,2,1)\n",
    "msk1=df_com['median_toxic']<=-1\n",
    "plt.ylabel('Toxicity=-1')\n",
    "df_com['year'][msk1].hist(bins=bin_arr)\n",
    "plt.title('Toxic')\n",
    "plt.subplot(2,2,2)\n",
    "plt.title('Non-Toxic')\n",
    "df_com['year'][~msk1].hist(bins=bin_arr)\n",
    "#second row\n",
    "plt.subplot(2,2,3)\n",
    "msk2=df_com['median_toxic']<=-2\n",
    "df_com['year'][msk2].hist(bins=bin_arr)\n",
    "plt.ylabel('Toxicity=-2')\n",
    "plt.subplot(2,2,4)\n",
    "df_com['year'][~msk2].hist(bins=bin_arr)\n",
    "plt.xlabel('Year')\n",
    "plt.show()"
   ]
  },
  {
   "cell_type": "markdown",
   "metadata": {
    "ein.tags": "worksheet-0",
    "slideshow": {
     "slide_type": "-"
    }
   },
   "source": [
    "So the data looks to be evenly balanced as toxic/non-toxic across time, with a rough 10% fraction reduction from regular to toxic, to severely toxic.\n",
    "Another question about the data is what topics were under discussion? Does this bias the output/findings? "
   ]
  },
  {
   "cell_type": "code",
   "execution_count": 83,
   "metadata": {
    "autoscroll": false,
    "collapsed": false,
    "ein.tags": "worksheet-0",
    "slideshow": {
     "slide_type": "-"
    }
   },
   "outputs": [
    {
     "ename": "KeyError",
     "evalue": "'comment'",
     "output_type": "error",
     "traceback": [
      "\u001b[0;31m---------------------------------------------------------------------------\u001b[0m",
      "\u001b[0;31mKeyError\u001b[0m                                  Traceback (most recent call last)",
      "\u001b[0;32m/home/jonathan/anaconda3/lib/python3.6/site-packages/pandas/core/indexes/base.py\u001b[0m in \u001b[0;36mget_loc\u001b[0;34m(self, key, method, tolerance)\u001b[0m\n\u001b[1;32m   2441\u001b[0m             \u001b[0;32mtry\u001b[0m\u001b[0;34m:\u001b[0m\u001b[0;34m\u001b[0m\u001b[0m\n\u001b[0;32m-> 2442\u001b[0;31m                 \u001b[0;32mreturn\u001b[0m \u001b[0mself\u001b[0m\u001b[0;34m.\u001b[0m\u001b[0m_engine\u001b[0m\u001b[0;34m.\u001b[0m\u001b[0mget_loc\u001b[0m\u001b[0;34m(\u001b[0m\u001b[0mkey\u001b[0m\u001b[0;34m)\u001b[0m\u001b[0;34m\u001b[0m\u001b[0m\n\u001b[0m\u001b[1;32m   2443\u001b[0m             \u001b[0;32mexcept\u001b[0m \u001b[0mKeyError\u001b[0m\u001b[0;34m:\u001b[0m\u001b[0;34m\u001b[0m\u001b[0m\n",
      "\u001b[0;32mpandas/_libs/index.pyx\u001b[0m in \u001b[0;36mpandas._libs.index.IndexEngine.get_loc\u001b[0;34m()\u001b[0m\n",
      "\u001b[0;32mpandas/_libs/index.pyx\u001b[0m in \u001b[0;36mpandas._libs.index.IndexEngine.get_loc\u001b[0;34m()\u001b[0m\n",
      "\u001b[0;32mpandas/_libs/hashtable_class_helper.pxi\u001b[0m in \u001b[0;36mpandas._libs.hashtable.PyObjectHashTable.get_item\u001b[0;34m()\u001b[0m\n",
      "\u001b[0;32mpandas/_libs/hashtable_class_helper.pxi\u001b[0m in \u001b[0;36mpandas._libs.hashtable.PyObjectHashTable.get_item\u001b[0;34m()\u001b[0m\n",
      "\u001b[0;31mKeyError\u001b[0m: 'comment'",
      "\nDuring handling of the above exception, another exception occurred:\n",
      "\u001b[0;31mKeyError\u001b[0m                                  Traceback (most recent call last)",
      "\u001b[0;32m<ipython-input-83-8c0af3c7943b>\u001b[0m in \u001b[0;36m<module>\u001b[0;34m()\u001b[0m\n\u001b[1;32m     28\u001b[0m     \u001b[0mcom_clean\u001b[0m\u001b[0;34m=\u001b[0m\u001b[0mcom_clean\u001b[0m\u001b[0;34m.\u001b[0m\u001b[0mstr\u001b[0m\u001b[0;34m.\u001b[0m\u001b[0mreplace\u001b[0m\u001b[0;34m(\u001b[0m\u001b[0;34m'\\\\s+'\u001b[0m\u001b[0;34m,\u001b[0m\u001b[0;34m' '\u001b[0m\u001b[0;34m)\u001b[0m\u001b[0;34m\u001b[0m\u001b[0m\n\u001b[1;32m     29\u001b[0m     \u001b[0;32mreturn\u001b[0m \u001b[0mcom_clean\u001b[0m\u001b[0;34m\u001b[0m\u001b[0m\n\u001b[0;32m---> 30\u001b[0;31m \u001b[0mdf_com\u001b[0m\u001b[0;34m[\u001b[0m\u001b[0;34m'comment_clean'\u001b[0m\u001b[0;34m]\u001b[0m\u001b[0;34m=\u001b[0m\u001b[0mclean_up\u001b[0m\u001b[0;34m(\u001b[0m\u001b[0mdf_com\u001b[0m\u001b[0;34m[\u001b[0m\u001b[0;34m'comment'\u001b[0m\u001b[0;34m]\u001b[0m\u001b[0;34m)\u001b[0m\u001b[0;34m\u001b[0m\u001b[0m\n\u001b[0m",
      "\u001b[0;32m/home/jonathan/anaconda3/lib/python3.6/site-packages/pandas/core/frame.py\u001b[0m in \u001b[0;36m__getitem__\u001b[0;34m(self, key)\u001b[0m\n\u001b[1;32m   1962\u001b[0m             \u001b[0;32mreturn\u001b[0m \u001b[0mself\u001b[0m\u001b[0;34m.\u001b[0m\u001b[0m_getitem_multilevel\u001b[0m\u001b[0;34m(\u001b[0m\u001b[0mkey\u001b[0m\u001b[0;34m)\u001b[0m\u001b[0;34m\u001b[0m\u001b[0m\n\u001b[1;32m   1963\u001b[0m         \u001b[0;32melse\u001b[0m\u001b[0;34m:\u001b[0m\u001b[0;34m\u001b[0m\u001b[0m\n\u001b[0;32m-> 1964\u001b[0;31m             \u001b[0;32mreturn\u001b[0m \u001b[0mself\u001b[0m\u001b[0;34m.\u001b[0m\u001b[0m_getitem_column\u001b[0m\u001b[0;34m(\u001b[0m\u001b[0mkey\u001b[0m\u001b[0;34m)\u001b[0m\u001b[0;34m\u001b[0m\u001b[0m\n\u001b[0m\u001b[1;32m   1965\u001b[0m \u001b[0;34m\u001b[0m\u001b[0m\n\u001b[1;32m   1966\u001b[0m     \u001b[0;32mdef\u001b[0m \u001b[0m_getitem_column\u001b[0m\u001b[0;34m(\u001b[0m\u001b[0mself\u001b[0m\u001b[0;34m,\u001b[0m \u001b[0mkey\u001b[0m\u001b[0;34m)\u001b[0m\u001b[0;34m:\u001b[0m\u001b[0;34m\u001b[0m\u001b[0m\n",
      "\u001b[0;32m/home/jonathan/anaconda3/lib/python3.6/site-packages/pandas/core/frame.py\u001b[0m in \u001b[0;36m_getitem_column\u001b[0;34m(self, key)\u001b[0m\n\u001b[1;32m   1969\u001b[0m         \u001b[0;31m# get column\u001b[0m\u001b[0;34m\u001b[0m\u001b[0;34m\u001b[0m\u001b[0m\n\u001b[1;32m   1970\u001b[0m         \u001b[0;32mif\u001b[0m \u001b[0mself\u001b[0m\u001b[0;34m.\u001b[0m\u001b[0mcolumns\u001b[0m\u001b[0;34m.\u001b[0m\u001b[0mis_unique\u001b[0m\u001b[0;34m:\u001b[0m\u001b[0;34m\u001b[0m\u001b[0m\n\u001b[0;32m-> 1971\u001b[0;31m             \u001b[0;32mreturn\u001b[0m \u001b[0mself\u001b[0m\u001b[0;34m.\u001b[0m\u001b[0m_get_item_cache\u001b[0m\u001b[0;34m(\u001b[0m\u001b[0mkey\u001b[0m\u001b[0;34m)\u001b[0m\u001b[0;34m\u001b[0m\u001b[0m\n\u001b[0m\u001b[1;32m   1972\u001b[0m \u001b[0;34m\u001b[0m\u001b[0m\n\u001b[1;32m   1973\u001b[0m         \u001b[0;31m# duplicate columns & possible reduce dimensionality\u001b[0m\u001b[0;34m\u001b[0m\u001b[0;34m\u001b[0m\u001b[0m\n",
      "\u001b[0;32m/home/jonathan/anaconda3/lib/python3.6/site-packages/pandas/core/generic.py\u001b[0m in \u001b[0;36m_get_item_cache\u001b[0;34m(self, item)\u001b[0m\n\u001b[1;32m   1643\u001b[0m         \u001b[0mres\u001b[0m \u001b[0;34m=\u001b[0m \u001b[0mcache\u001b[0m\u001b[0;34m.\u001b[0m\u001b[0mget\u001b[0m\u001b[0;34m(\u001b[0m\u001b[0mitem\u001b[0m\u001b[0;34m)\u001b[0m\u001b[0;34m\u001b[0m\u001b[0m\n\u001b[1;32m   1644\u001b[0m         \u001b[0;32mif\u001b[0m \u001b[0mres\u001b[0m \u001b[0;32mis\u001b[0m \u001b[0;32mNone\u001b[0m\u001b[0;34m:\u001b[0m\u001b[0;34m\u001b[0m\u001b[0m\n\u001b[0;32m-> 1645\u001b[0;31m             \u001b[0mvalues\u001b[0m \u001b[0;34m=\u001b[0m \u001b[0mself\u001b[0m\u001b[0;34m.\u001b[0m\u001b[0m_data\u001b[0m\u001b[0;34m.\u001b[0m\u001b[0mget\u001b[0m\u001b[0;34m(\u001b[0m\u001b[0mitem\u001b[0m\u001b[0;34m)\u001b[0m\u001b[0;34m\u001b[0m\u001b[0m\n\u001b[0m\u001b[1;32m   1646\u001b[0m             \u001b[0mres\u001b[0m \u001b[0;34m=\u001b[0m \u001b[0mself\u001b[0m\u001b[0;34m.\u001b[0m\u001b[0m_box_item_values\u001b[0m\u001b[0;34m(\u001b[0m\u001b[0mitem\u001b[0m\u001b[0;34m,\u001b[0m \u001b[0mvalues\u001b[0m\u001b[0;34m)\u001b[0m\u001b[0;34m\u001b[0m\u001b[0m\n\u001b[1;32m   1647\u001b[0m             \u001b[0mcache\u001b[0m\u001b[0;34m[\u001b[0m\u001b[0mitem\u001b[0m\u001b[0;34m]\u001b[0m \u001b[0;34m=\u001b[0m \u001b[0mres\u001b[0m\u001b[0;34m\u001b[0m\u001b[0m\n",
      "\u001b[0;32m/home/jonathan/anaconda3/lib/python3.6/site-packages/pandas/core/internals.py\u001b[0m in \u001b[0;36mget\u001b[0;34m(self, item, fastpath)\u001b[0m\n\u001b[1;32m   3588\u001b[0m \u001b[0;34m\u001b[0m\u001b[0m\n\u001b[1;32m   3589\u001b[0m             \u001b[0;32mif\u001b[0m \u001b[0;32mnot\u001b[0m \u001b[0misnull\u001b[0m\u001b[0;34m(\u001b[0m\u001b[0mitem\u001b[0m\u001b[0;34m)\u001b[0m\u001b[0;34m:\u001b[0m\u001b[0;34m\u001b[0m\u001b[0m\n\u001b[0;32m-> 3590\u001b[0;31m                 \u001b[0mloc\u001b[0m \u001b[0;34m=\u001b[0m \u001b[0mself\u001b[0m\u001b[0;34m.\u001b[0m\u001b[0mitems\u001b[0m\u001b[0;34m.\u001b[0m\u001b[0mget_loc\u001b[0m\u001b[0;34m(\u001b[0m\u001b[0mitem\u001b[0m\u001b[0;34m)\u001b[0m\u001b[0;34m\u001b[0m\u001b[0m\n\u001b[0m\u001b[1;32m   3591\u001b[0m             \u001b[0;32melse\u001b[0m\u001b[0;34m:\u001b[0m\u001b[0;34m\u001b[0m\u001b[0m\n\u001b[1;32m   3592\u001b[0m                 \u001b[0mindexer\u001b[0m \u001b[0;34m=\u001b[0m \u001b[0mnp\u001b[0m\u001b[0;34m.\u001b[0m\u001b[0marange\u001b[0m\u001b[0;34m(\u001b[0m\u001b[0mlen\u001b[0m\u001b[0;34m(\u001b[0m\u001b[0mself\u001b[0m\u001b[0;34m.\u001b[0m\u001b[0mitems\u001b[0m\u001b[0;34m)\u001b[0m\u001b[0;34m)\u001b[0m\u001b[0;34m[\u001b[0m\u001b[0misnull\u001b[0m\u001b[0;34m(\u001b[0m\u001b[0mself\u001b[0m\u001b[0;34m.\u001b[0m\u001b[0mitems\u001b[0m\u001b[0;34m)\u001b[0m\u001b[0;34m]\u001b[0m\u001b[0;34m\u001b[0m\u001b[0m\n",
      "\u001b[0;32m/home/jonathan/anaconda3/lib/python3.6/site-packages/pandas/core/indexes/base.py\u001b[0m in \u001b[0;36mget_loc\u001b[0;34m(self, key, method, tolerance)\u001b[0m\n\u001b[1;32m   2442\u001b[0m                 \u001b[0;32mreturn\u001b[0m \u001b[0mself\u001b[0m\u001b[0;34m.\u001b[0m\u001b[0m_engine\u001b[0m\u001b[0;34m.\u001b[0m\u001b[0mget_loc\u001b[0m\u001b[0;34m(\u001b[0m\u001b[0mkey\u001b[0m\u001b[0;34m)\u001b[0m\u001b[0;34m\u001b[0m\u001b[0m\n\u001b[1;32m   2443\u001b[0m             \u001b[0;32mexcept\u001b[0m \u001b[0mKeyError\u001b[0m\u001b[0;34m:\u001b[0m\u001b[0;34m\u001b[0m\u001b[0m\n\u001b[0;32m-> 2444\u001b[0;31m                 \u001b[0;32mreturn\u001b[0m \u001b[0mself\u001b[0m\u001b[0;34m.\u001b[0m\u001b[0m_engine\u001b[0m\u001b[0;34m.\u001b[0m\u001b[0mget_loc\u001b[0m\u001b[0;34m(\u001b[0m\u001b[0mself\u001b[0m\u001b[0;34m.\u001b[0m\u001b[0m_maybe_cast_indexer\u001b[0m\u001b[0;34m(\u001b[0m\u001b[0mkey\u001b[0m\u001b[0;34m)\u001b[0m\u001b[0;34m)\u001b[0m\u001b[0;34m\u001b[0m\u001b[0m\n\u001b[0m\u001b[1;32m   2445\u001b[0m \u001b[0;34m\u001b[0m\u001b[0m\n\u001b[1;32m   2446\u001b[0m         \u001b[0mindexer\u001b[0m \u001b[0;34m=\u001b[0m \u001b[0mself\u001b[0m\u001b[0;34m.\u001b[0m\u001b[0mget_indexer\u001b[0m\u001b[0;34m(\u001b[0m\u001b[0;34m[\u001b[0m\u001b[0mkey\u001b[0m\u001b[0;34m]\u001b[0m\u001b[0;34m,\u001b[0m \u001b[0mmethod\u001b[0m\u001b[0;34m=\u001b[0m\u001b[0mmethod\u001b[0m\u001b[0;34m,\u001b[0m \u001b[0mtolerance\u001b[0m\u001b[0;34m=\u001b[0m\u001b[0mtolerance\u001b[0m\u001b[0;34m)\u001b[0m\u001b[0;34m\u001b[0m\u001b[0m\n",
      "\u001b[0;32mpandas/_libs/index.pyx\u001b[0m in \u001b[0;36mpandas._libs.index.IndexEngine.get_loc\u001b[0;34m()\u001b[0m\n",
      "\u001b[0;32mpandas/_libs/index.pyx\u001b[0m in \u001b[0;36mpandas._libs.index.IndexEngine.get_loc\u001b[0;34m()\u001b[0m\n",
      "\u001b[0;32mpandas/_libs/hashtable_class_helper.pxi\u001b[0m in \u001b[0;36mpandas._libs.hashtable.PyObjectHashTable.get_item\u001b[0;34m()\u001b[0m\n",
      "\u001b[0;32mpandas/_libs/hashtable_class_helper.pxi\u001b[0m in \u001b[0;36mpandas._libs.hashtable.PyObjectHashTable.get_item\u001b[0;34m()\u001b[0m\n",
      "\u001b[0;31mKeyError\u001b[0m: 'comment'"
     ]
    }
   ],
   "source": [
    "#cleaning the data\n",
    "#Can use pandas built in str functionality with regex to eliminate\n",
    "#Can maybe also eliminate all punctuation?  Makes any \n",
    "\n",
    "#maybe also dates?\n",
    "def clean_up(comments):\n",
    "    com_clean=comments.str.replace('NEWLINE_TOKEN',' ')\n",
    "    com_clean=com_clean.str.replace('TAB_TOKEN',' ')    \n",
    "    #Remove HTML trash, via non-greedy replacing anything between backticks.\n",
    "    #Should probably combine into a single regex.\n",
    "    #re_str=\"(style|class|width|align|cellpadding|cellspacing|rowspan|colspan)=\\`\\`.*?\\`\\`\"\n",
    "    #com_clean=com_clean.str.replace(re_str,' ')\n",
    "    com_clean=com_clean.str.replace(\"style=\\`\\`.*?\\`\\`\",' ')\n",
    "    com_clean=com_clean.str.replace(\"class=\\`\\`.*?\\`\\`\",' ')\n",
    "    com_clean=com_clean.str.replace(\"width=\\`\\`.*?\\`\\`\",' ')\n",
    "    com_clean=com_clean.str.replace(\"align=\\`\\`.*?\\`\\`\",' ')\n",
    "    com_clean=com_clean.str.replace(\"cellpadding=\\`\\`.*?\\`\\`\",' ')\n",
    "    com_clean=com_clean.str.replace(\"cellspacing=\\`\\`.*?\\`\\`\",' ')\n",
    "    com_clean=com_clean.str.replace(\"rowspan=\\`\\`.*?\\`\\`\",' ')\n",
    "    com_clean=com_clean.str.replace(\"colspan=\\`\\`.*?\\`\\`\",' ')\n",
    "    #remove numbers\n",
    "    com_clean=com_clean.str.replace(\"[0-9]+\",' ')\n",
    "    #remove numbers\n",
    "    com_clean=com_clean.str.replace(\"_\",' ')\n",
    "    #remove symbols.    There must be a more comprehensive way of doing this?\n",
    "    com_clean=com_clean.str.replace(\"[\\[\\[\\{\\}=_:\\|\\(\\)\\\\\\/\\`]+\",' ')\n",
    "    #remove multiple spaces, replace with a single space\n",
    "    com_clean=com_clean.str.replace('\\\\s+',' ')\n",
    "    return com_clean\n",
    "df_com['comment_clean']=clean_up(df_com['comment'])"
   ]
  },
  {
   "cell_type": "markdown",
   "metadata": {
    "ein.tags": "worksheet-0",
    "slideshow": {
     "slide_type": "-"
    }
   },
   "source": [
    "This does lose some information.  Such as possible rude symbols replicating genitalia. (There's like 6 of these crude ascii art drawings.  This is probably not worth tracking down)."
   ]
  },
  {
   "cell_type": "code",
   "execution_count": 43,
   "metadata": {
    "autoscroll": false,
    "collapsed": false,
    "ein.tags": "worksheet-0",
    "slideshow": {
     "slide_type": "-"
    }
   },
   "outputs": [
    {
     "data": {
      "text/plain": [
       "Index(['rev_id', 'comment', 'year', 'logged_in', 'ns', 'sample', 'split',\n",
       "       'scores', 'mean_toxic', 'median_toxic', 'toxic', 'comment_clean'],\n",
       "      dtype='object')"
      ]
     },
     "execution_count": 43,
     "metadata": {},
     "output_type": "execute_result"
    }
   ],
   "source": [
    "df_com.columns"
   ]
  },
  {
   "cell_type": "code",
   "execution_count": 15,
   "metadata": {
    "autoscroll": false,
    "collapsed": false,
    "ein.tags": "worksheet-0",
    "slideshow": {
     "slide_type": "-"
    }
   },
   "outputs": [],
   "source": [
    "#put the file as tsv \n",
    "df_com.to_csv('saved_dataframes/cleaned_comments.tsv.gzip',sep='\\t',\n",
    "columns=['rev_id','comment_clean','scores','mean_toxic','median_toxic','split','toxic'],compression='gzip')"
   ]
  },
  {
   "cell_type": "code",
   "execution_count": 3,
   "metadata": {
    "autoscroll": false,
    "collapsed": false,
    "ein.tags": "worksheet-0",
    "slideshow": {
     "slide_type": "-"
    }
   },
   "outputs": [],
   "source": [
    "#read in saved cleaned up dataframe.\n",
    "df_com=pd.read_csv('saved_dataframes/cleaned_comments.tsv.gzip',sep='\\t',compression='gzip')"
   ]
  },
  {
   "cell_type": "code",
   "execution_count": 56,
   "metadata": {
    "autoscroll": false,
    "collapsed": false,
    "ein.tags": "worksheet-0",
    "slideshow": {
     "slide_type": "-"
    }
   },
   "outputs": [],
   "source": [
    "#separate off training_split\n",
    "train_msk=df_com['split']=='train'\n",
    "df_train=df_com[train_msk]\n",
    "df_dev=df_com[df_com['split']=='dev']\n",
    "df_test=df_com[df_com['split']=='test']"
   ]
  },
  {
   "cell_type": "markdown",
   "metadata": {
    "ein.tags": "worksheet-0",
    "slideshow": {
     "slide_type": "-"
    }
   },
   "source": [
    "So the following vectorizer eliminates the stop words.  However, while stop words have little impact\n",
    "on the semantic content of regular documents, in internet toxicity they are absent from the most toxic messages.\n",
    "However, the hardest to classify comments will probably have them?"
   ]
  },
  {
   "cell_type": "code",
   "execution_count": 269,
   "metadata": {
    "autoscroll": false,
    "collapsed": false,
    "ein.tags": "worksheet-0",
    "slideshow": {
     "slide_type": "-"
    }
   },
   "outputs": [],
   "source": [
    "?CountVectorizer"
   ]
  },
  {
   "cell_type": "code",
   "execution_count": 270,
   "metadata": {
    "autoscroll": false,
    "collapsed": false,
    "ein.tags": "worksheet-0",
    "slideshow": {
     "slide_type": "-"
    }
   },
   "outputs": [],
   "source": [
    "#borrowing from http://scikit-learn.org/stable/tutorial/text_analytics/working_with_text_data.html\n",
    "count_vect=CountVectorizer(stop_words='english',lowercase=True,strip_accents='unicode',ngram_range=(1,2))\n",
    "tfidf_vect=TfidfVectorizer(stop_words='english',lowercase=True,strip_accents='unicode',ngram_range=(1,2))\n",
    "X_train_counts=count_vect.fit_transform(df_train['comment_clean'])\n",
    "X_train_tfidf=tfidf_vect.fit_transform(df_train['comment_clean'])\n",
    "\n",
    "#do the same transformations using existing vocab built up in training.\n",
    "X_dev_tfidf=tfidf_vect.transform(df_dev['comment_clean'])\n",
    "X_test_tfidf=tfidf_vect.transform(df_test['comment_clean'])\n",
    "\n",
    "X_dev_counts=count_vect.transform(df_dev['comment_clean'])\n",
    "X_test_counts=count_vect.transform(df_test['comment_clean'])"
   ]
  },
  {
   "cell_type": "markdown",
   "metadata": {
    "ein.tags": "worksheet-0",
    "slideshow": {
     "slide_type": "-"
    }
   },
   "source": [
    "# Spell checking\n",
    "\n",
    "Let's try using pyenchant to spellcheck these messages.\n",
    "My goal is to build a way of catching inventive attempts to circumvent the\n",
    "swearing filter.  (This catches any idiocy like \"fck you\")\n",
    "Anything not recognize will count as a spelling error, which can be used as a feature.  \n",
    "\n",
    "However, this will also end up penalizing proper names, foreign languages, and rare technical terms.\n",
    "I would hope these would be outweighed by having other genuine content.  \n"
   ]
  },
  {
   "cell_type": "code",
   "execution_count": 30,
   "metadata": {
    "autoscroll": false,
    "collapsed": false,
    "ein.tags": "worksheet-0",
    "slideshow": {
     "slide_type": "-"
    }
   },
   "outputs": [],
   "source": [
    "from enchant.checker import SpellChecker\n",
    "chkr = SpellChecker(\"en_US\")"
   ]
  },
  {
   "cell_type": "code",
   "execution_count": 105,
   "metadata": {
    "autoscroll": false,
    "collapsed": false,
    "ein.tags": "worksheet-0",
    "slideshow": {
     "slide_type": "-"
    }
   },
   "outputs": [
    {
     "name": "stdout",
     "output_type": "stream",
     "text": [
      "10105\n"
     ]
    }
   ],
   "source": [
    "#Make a custom dictionary based on data:\n",
    "#Tokenize words.  Accept new words that show up in more than 5 messages.\n",
    "X_log=np.sum(X_train_counts>0,axis=0)\n",
    "\n",
    "msk=X_log>20\n",
    "print(np.sum(msk))"
   ]
  },
  {
   "cell_type": "code",
   "execution_count": 111,
   "metadata": {
    "autoscroll": false,
    "collapsed": false,
    "ein.tags": "worksheet-0",
    "slideshow": {
     "slide_type": "-"
    }
   },
   "outputs": [],
   "source": [
    "word_arr=voc_df1[msk.T].index.values\n",
    "#now check which words are \"new\"\n",
    "new_word=np.zeros(word_arr.shape)\n",
    "for i in range(len(word_arr)):\n",
    "    chkr.set_text(word_arr[i])\n",
    "    for err in chkr:\n",
    "        #print('Error:',err.word)\n",
    "        new_word[i]=1\n",
    "np.sum(new_word)\n"
   ]
  },
  {
   "cell_type": "code",
   "execution_count": 120,
   "metadata": {
    "autoscroll": false,
    "collapsed": false,
    "ein.tags": "worksheet-0",
    "slideshow": {
     "slide_type": "-"
    }
   },
   "outputs": [],
   "source": [
    "#write these to a custom CSV dict for use in checking.\n",
    "new_word_series=pd.Series(word_arr[new_word>0])\n",
    "new_word_series.to_csv('new_word_dict.txt',index=False)"
   ]
  },
  {
   "cell_type": "code",
   "execution_count": 122,
   "metadata": {
    "autoscroll": false,
    "collapsed": false,
    "ein.tags": "worksheet-0",
    "slideshow": {
     "slide_type": "-"
    }
   },
   "outputs": [],
   "source": [
    "#use US english, and augmented by new \"common\" words.\n",
    "chkr = SpellChecker(\"en_US\",\"new_word_dict.txt\")"
   ]
  },
  {
   "cell_type": "code",
   "execution_count": 123,
   "metadata": {
    "autoscroll": false,
    "collapsed": false,
    "ein.tags": "worksheet-0",
    "slideshow": {
     "slide_type": "-"
    }
   },
   "outputs": [
    {
     "name": "stdout",
     "output_type": "stream",
     "text": [
      "Time taken: 7.926937818527222\n"
     ]
    }
   ],
   "source": [
    "Ncheck=1000\n",
    "\n",
    "err_tot=np.zeros(Ncheck)\n",
    "t0=time.time()\n",
    "for i in range(Ncheck):\n",
    "    chkr.set_text(df_com.iloc[i]['comment_clean'])\n",
    "    for err in chkr:\n",
    "        #print('Error:',err.word)\n",
    "        err_tot[i]+=1\n",
    "t1=time.time()\n",
    "print('Time taken:',t1-t0)\n",
    "#So around 8 sec for 1000 entries.  Will be around an hour for the whole set of 10^5.\n",
    "#Could use multiprocess to split up, as this is a trivially parallel task.\n",
    "#But note:chkr is stateful - need a list of independent chkrs for each process/thread."
   ]
  },
  {
   "cell_type": "markdown",
   "metadata": {
    "ein.tags": "worksheet-0",
    "slideshow": {
     "slide_type": "-"
    }
   },
   "source": [
    "# Feature Engineering\n",
    "\n",
    "Let's try to add features such as checking the fraction of all-caps words, the number of mis-spelled words, and repetition.\n",
    "The spellchecker can find the number of misspelled words, can construct a freaction of the message that is mispelled.\n",
    "Repetition can be estimated from the term-frequency matrix, by taking the ratio of any word to the total number of words.\n",
    "Capitalization "
   ]
  },
  {
   "cell_type": "markdown",
   "metadata": {
    "ein.tags": "worksheet-0",
    "slideshow": {
     "slide_type": "-"
    }
   },
   "source": [
    "# Checking the vectorizer and finding common words"
   ]
  },
  {
   "cell_type": "markdown",
   "metadata": {
    "ein.tags": "worksheet-0",
    "slideshow": {
     "slide_type": "-"
    }
   },
   "source": [
    "I wanted to check that the vectorizer was working by outputting common words, and identifying the \"most toxic\" words, based on their counts.\n",
    "This was useful as a sanity check."
   ]
  },
  {
   "cell_type": "code",
   "execution_count": 271,
   "metadata": {
    "autoscroll": false,
    "collapsed": false,
    "ein.tags": "worksheet-0",
    "slideshow": {
     "slide_type": "-"
    }
   },
   "outputs": [],
   "source": [
    "#get vocabulary dictionary, then make a dataframe, with entries as rows\n",
    "#Then sort dataframe by row entry value, and then use that as the index for the counts.\n",
    "voc_dict=count_vect.vocabulary_\n",
    "voc_df=pd.DataFrame.from_dict(voc_dict,orient='index')\n",
    "voc_df1=voc_df.sort_values(by=0)"
   ]
  },
  {
   "cell_type": "code",
   "execution_count": 272,
   "metadata": {
    "autoscroll": false,
    "collapsed": false,
    "ein.tags": "worksheet-0",
    "slideshow": {
     "slide_type": "-"
    }
   },
   "outputs": [
    {
     "data": {
      "text/plain": [
       "0    29143\nName: 27 districts, dtype: int64"
      ]
     },
     "execution_count": 272,
     "metadata": {},
     "output_type": "execute_result"
    }
   ],
   "source": [
    "voc_df1.iloc[29143]"
   ]
  },
  {
   "cell_type": "code",
   "execution_count": 273,
   "metadata": {
    "autoscroll": false,
    "collapsed": false,
    "ein.tags": "worksheet-0",
    "slideshow": {
     "slide_type": "-"
    }
   },
   "outputs": [],
   "source": [
    "#Compute conditional probabilities of toxicity for each word. \n",
    "ptox,pw_tox,pw_cln = cond_prob( X_train_counts, df_train['toxic'].values, csmooth=0.01)"
   ]
  },
  {
   "cell_type": "code",
   "execution_count": 274,
   "metadata": {
    "autoscroll": false,
    "collapsed": false,
    "ein.tags": "worksheet-0",
    "slideshow": {
     "slide_type": "-"
    }
   },
   "outputs": [
    {
     "name": "stdout",
     "output_type": "stream",
     "text": [
      "['fuck fuck' 'faggot faggot' 'bark bark' 'suck suck' 'wanker wanker'\n",
      " 'nipple nipple' 'die die' 'die fag' 'faggots faggots' 'fucksex' 'fag die'\n",
      " 'fucksex fucksex' 'nigger nigger' 'jew fat' 'fat jew' 'super gay' 'gay super'\n",
      " 'buttsecks' 'buttsecks buttsecks' 'bastered']\n"
     ]
    }
   ],
   "source": [
    "#make new dataframe with conditional probabilities for words being toxic, and raw probabilities of occuring in toxic/clean messages\n",
    "#Then sort by toxicity.\n",
    "X_cond= pw_tox*ptox/(pw_tox*ptox + pw_cln*(1-ptox))\n",
    "word_mat=np.array([X_train_counts.sum(axis=0),X_cond,pw_cln,pw_tox]).squeeze()\n",
    "word_df=pd.DataFrame(word_mat.T,columns=['count','pcond','p_clean','p_toxic'],index=voc_df1.index)\n",
    "word_df.sort_values('pcond',ascending=False,inplace=True)\n",
    "pcond_wds=word_df.head(n=20).index.values\n",
    "\n",
    "#Mis-spelled rare swearing follows.  And someone's vendetta against VeggieTales.\n",
    "print(pcond_wds)"
   ]
  },
  {
   "cell_type": "markdown",
   "metadata": {
    "ein.tags": "worksheet-0",
    "slideshow": {
     "slide_type": "-"
    }
   },
   "source": [
    "So, the most toxic words (i.e. words that only appeared in toxic messages) are misspelled attempts at rudeness, with weird spaces, and combination words.  I think this reflects more on the pre-processing.  These words show up in a single toxic message, and are thus great at inferring that one message is toxic.  This doesn't say much about more general trends in the messages.\n",
    "\n",
    "I am considering also implementing a spell-check, and adding a variable for the number of incorrect words or fraction of the message that is misspelled.  Another feature would be the fraction that is capitalized?\n",
    "The accent stripping catches simple attempts to avoid the spam filter with accents, but does miss things where the words are spaced out, or have other characters inserted."
   ]
  },
  {
   "cell_type": "code",
   "execution_count": 142,
   "metadata": {
    "autoscroll": false,
    "collapsed": false,
    "ein.tags": "worksheet-0",
    "slideshow": {
     "slide_type": "-"
    }
   },
   "outputs": [],
   "source": [
    "xtot=X_train_counts.sum(axis=0).squeeze()\n",
    "#compare vectorized vs. naive counts to check mappings\n",
    "def check_vect(count_mat,comments,vocab,word):\n",
    "    \"\"\"check_vect(count_mat,comments,vocab,word)\n",
    "    Checks the counts/occurence of words between the count vectorizer,\n",
    "    and a naive 'contains' search.  Returns all the matching comments,\n",
    "    and any discrepencies.        \n",
    "    \"\"\"\n",
    "    ind=vocab.loc[word].values\n",
    "    xtot=count_mat.sum(axis=0)\n",
    "    vect_count=(xtot[0,ind])\n",
    "    #find comments with words\n",
    "    msk=(count_mat[:,ind]>0).toarray().squeeze()\n",
    "    #find comments via naive search\n",
    "    naive_msk=comments.str.contains('{}'.format(word),case=False)\n",
    "    naive_count=np.sum(naive_msk)\n",
    "    comments=comments[msk]\n",
    "    naive_comments=comments[naive_msk]\n",
    "    diff_comments=comments[msk!=naive_msk]\n",
    "    return vect_count,naive_count,comments,naive_comments,diff_comments"
   ]
  },
  {
   "cell_type": "code",
   "execution_count": 275,
   "metadata": {
    "autoscroll": false,
    "collapsed": false,
    "ein.tags": "worksheet-0",
    "slideshow": {
     "slide_type": "-"
    }
   },
   "outputs": [],
   "source": [
    "#The following searches for words via a naive regex, and compares the results with the tokenizer.\n",
    "vc,cc,com,ncom,dcom=check_vect(X_train_counts,df_train['comment_clean'],voc_df,pcond_wds[0])\n",
    "#searching for 'fuck' gives a salutory lesson in why accent tripping is worthwhile, and a simple word filter will probably be circumvented.\n",
    "# print('Vect: {}, Naive: {}'.format(vc,cc))\n",
    "# print(com.head(),'\\n\\n')\n",
    "# print(ncom.head())"
   ]
  },
  {
   "cell_type": "code",
   "execution_count": 277,
   "metadata": {
    "autoscroll": false,
    "collapsed": false,
    "ein.tags": "worksheet-0",
    "slideshow": {
     "slide_type": "-"
    }
   },
   "outputs": [
    {
     "name": "stdout",
     "output_type": "stream",
     "text": [
      "buttsecks buttsecks :\t 496 occurences: \t 1 messages\n",
      "bastered :\t 449 occurences: \t 2 messages\n"
     ]
    },
    {
     "name": "stdout",
     "output_type": "stream",
     "text": [
      "nigger nigger :\t 617 occurences: \t 3 messages\n",
      "jew fat :\t 613 occurences: \t 1 messages\n",
      "fat jew :\t 609 occurences: \t 1 messages\n",
      "super gay :\t 500 occurences: \t 1 messages\n",
      "gay super :\t 499 occurences: \t 1 messages\n",
      "buttsecks :\t 498 occurences: \t 2 messages\n"
     ]
    },
    {
     "name": "stdout",
     "output_type": "stream",
     "text": [
      "die fag :\t 625 occurences: \t 1 messages\n",
      "faggots faggots :\t 624 occurences: \t 1 messages\n",
      "fucksex :\t 624 occurences: \t 1 messages\n",
      "fag die :\t 624 occurences: \t 1 messages\n",
      "fucksex fucksex :\t 623 occurences: \t 1 messages\n"
     ]
    },
    {
     "name": "stdout",
     "output_type": "stream",
     "text": [
      "fuck fuck :\t 1747 occurences: \t 79 messages\n",
      "faggot faggot :\t 1427 occurences: \t 4 messages\n",
      "bark bark :\t 999 occurences: \t 1 messages\n",
      "suck suck :\t 993 occurences: \t 14 messages\n",
      "wanker wanker :\t 963 occurences: \t 3 messages\n",
      "nipple nipple :\t 763 occurences: \t 2 messages\n",
      "die die :\t 635 occurences: \t 6 messages\n"
     ]
    }
   ],
   "source": [
    "## Naughty words catch obvious candidates, and check for more British insults,\n",
    "## and slurs for arabs.\n",
    "word_counts=X_train_counts.sum(axis=0)\n",
    "for word in pcond_wds:\n",
    "    try:\n",
    "        ind=count_vect.vocabulary_[word]\n",
    "        n_occur=word_counts[0,ind]\n",
    "        n_tot=np.sum(X_train_counts[:,ind]>0)\n",
    "        print(word,':\\t {} occurences: \\t {} messages'.format(n_occur,n_tot))\n",
    "    except:\n",
    "        print(word,'not found')"
   ]
  },
  {
   "cell_type": "markdown",
   "metadata": {
    "ein.tags": "worksheet-0",
    "slideshow": {
     "slide_type": "-"
    }
   },
   "source": [
    "So, the conditional probability for a word being toxic is chiefly determined by whether it only occurs in toxic messages.  In this case, these \"most toxic words\" are misspelled or portmanteus.  The high counts are offset by only appearing in few messages.  This suggest these are just lengthy repetitions or a single rude message.\n",
    "\n",
    "A spellcheck might catch these, and correct the spelling?  That would potentially catch the attempts to circumvent obvious mis-spelling."
   ]
  },
  {
   "cell_type": "markdown",
   "metadata": {
    "ein.tags": "worksheet-0",
    "slideshow": {
     "slide_type": "-"
    }
   },
   "source": [
    "As an attempt to make a simpler, smaller data set to work with, Matt Borthwick selected out the comments with unanimous ratings.\n",
    "This revealed an interesting phenomenon: there are very few obvious racist slurs in the unanimous data set. (lots of sexism, general hate)\n",
    "People disagreed quite a bit on the extent to which racism was toxic, which suggests analyzing how the (predominantly American?) reviewers responded to the data. \n",
    "Weird sociological question on perception of toxicity of racism, perhaps by american reviewers? (this is something that the actual original project is explicitly considering at https://conversationai.github.io/bias.html)\n",
    "\n",
    "(searching for the n-word found these)\n",
    "Some ratings seem way off. e.g. the scores for comments 1467, 1657 include some -1s.\n",
    "Someone even thought 1918 was neutral!\n",
    "Wait, 2669 and 2670 are now identical comments. And some raters thought that 2670 was neutral too!  What the hell?!\n",
    "This suggests using the median toxicity score to avoid the mean being contaminated by people with a really different sense of what is toxic."
   ]
  },
  {
   "cell_type": "markdown",
   "metadata": {
    "ein.tags": "worksheet-0",
    "slideshow": {
     "slide_type": "-"
    }
   },
   "source": [
    "# Naive Bayes\n",
    "\n",
    "I want to implement a Naive Bayes classifier as a baseline.  I've written my own version, which I will try to compare to\n",
    "scikit-learn's version.  (They both return the same result now).\n",
    "\n",
    "This basically treats the comments in a bag-of-words sense, and drops any correlations between the words.  Perhaps including some more\n",
    "common n-grams, e.g. \"frigging crank\".\n",
    "\n",
    "* Estimate $p(w|T)$ from counts in term-frequency matrix.\n",
    "* Use Bayes Rule\n",
    "  $ P(T|w) = \\frac{p(T)p(w|T)}{\\text{normalization const}}$\n",
    "\n",
    "  \\begin{equation}\n",
    "    p(T|\\text{words}) = P(T) \\prod_{words}\\frac{p(w_i|T)}{p(w_i|T)\n",
    "  \\end{equation}\n",
    "\n",
    "* Use Logarithms, and compare log-odds for toxicity/non-toxic.  "
   ]
  },
  {
   "cell_type": "code",
   "execution_count": 278,
   "metadata": {
    "autoscroll": false,
    "collapsed": false,
    "ein.tags": "worksheet-0",
    "slideshow": {
     "slide_type": "-"
    }
   },
   "outputs": [
    {
     "name": "stderr",
     "output_type": "stream",
     "text": [
      "/home/jonathan/Data-Science/PDX_DataScience/PDX_toxicity/bayes.py:57: RuntimeWarning: overflow encountered in exp\n",
      "  prob=1/(1+np.exp(log_Cscore-log_Tscore))\n"
     ]
    }
   ],
   "source": [
    "actual=df_train['toxic'].values\n",
    "msk=actual\n",
    "Xtox = X_train_counts[msk,:]\n",
    "df_tox=df_train[msk]\n",
    "pred,prob,logT,logC,log_Tword,log_Cword=naive_bayes(X_train_counts,pw_tox,pw_cln,ptox)    "
   ]
  },
  {
   "cell_type": "code",
   "execution_count": 279,
   "metadata": {
    "autoscroll": false,
    "collapsed": false,
    "ein.tags": "worksheet-0",
    "slideshow": {
     "slide_type": "-"
    }
   },
   "outputs": [
    {
     "data": {
      "text/plain": [
       "<matplotlib.figure.Figure at 0x7f22e9ccd470>"
      ]
     },
     "metadata": {},
     "output_type": "display_data"
    },
    {
     "name": "stderr",
     "output_type": "stream",
     "text": [
      "/home/jonathan/anaconda3/lib/python3.6/site-packages/ipykernel_launcher.py:3: RuntimeWarning: divide by zero encountered in log\n",
      "  This is separate from the ipykernel package so we can avoid doing imports until\n"
     ]
    }
   ],
   "source": [
    "#Plot a histogram of the log probabilities.  \n",
    "plt.figure()\n",
    "plt.hist(np.maximum(-50,np.log(prob)),bins=100)\n",
    "plt.show()"
   ]
  },
  {
   "cell_type": "code",
   "execution_count": 280,
   "metadata": {
    "autoscroll": false,
    "collapsed": false,
    "ein.tags": "worksheet-0",
    "slideshow": {
     "slide_type": "-"
    }
   },
   "outputs": [
    {
     "data": {
      "text/plain": [
       "<matplotlib.figure.Figure at 0x7f2330dcee80>"
      ]
     },
     "metadata": {},
     "output_type": "display_data"
    }
   ],
   "source": [
    "#Plot a histogram of the log-odds \n",
    "plt.figure()\n",
    "plt.subplot(121)\n",
    "bins=np.linspace(-1000,1000,100)\n",
    "plt.hist(logT-logC,bins=bins,log=True)\n",
    "plt.ylabel('Counts')\n",
    "plt.xlabel('Log Odds of Toxicity')\n",
    "plt.title('Full Range')\n",
    "plt.subplot(122)\n",
    "bins=np.linspace(-20,20,100)\n",
    "plt.hist(logT-logC,bins=bins,log=True)\n",
    "plt.xlabel('Log Odds of Toxicity')\n",
    "plt.title('Zoomed in')\n",
    "plt.show()"
   ]
  },
  {
   "cell_type": "code",
   "execution_count": null,
   "metadata": {
    "autoscroll": false,
    "collapsed": false,
    "ein.tags": "worksheet-0",
    "slideshow": {
     "slide_type": "-"
    }
   },
   "outputs": [],
   "source": [
    "Maybe should also plot length of comments? To what extent are these mirroring a similar underlying shape, with long tails?"
   ]
  },
  {
   "cell_type": "code",
   "execution_count": 133,
   "metadata": {
    "autoscroll": false,
    "collapsed": false,
    "ein.tags": "worksheet-0",
    "slideshow": {
     "slide_type": "-"
    }
   },
   "outputs": [
    {
     "data": {
      "text/plain": [
       "<matplotlib.figure.Figure at 0x7f239904f0b8>"
      ]
     },
     "metadata": {},
     "output_type": "display_data"
    }
   ],
   "source": [
    "com_len=df_train['comment_clean'].apply(len)\n",
    "plt.hist(com_len,log=True)\n",
    "plt.xlabel('Character length of message')\n",
    "plt.show()"
   ]
  },
  {
   "cell_type": "code",
   "execution_count": 169,
   "metadata": {
    "autoscroll": false,
    "collapsed": false,
    "ein.tags": "worksheet-0",
    "slideshow": {
     "slide_type": "-"
    }
   },
   "outputs": [],
   "source": [
    "def check_predictions(pred,actual,epsilon=1E-15):\n",
    "    \"\"\"check_predictions\n",
    "    Compares predicted class (y_i) against actual class (z_i).\n",
    "    Returns the confusion matrix and mean log-loss.\n",
    "    \n",
    "    Log-loss = sum_i{ z_i log[ y_i] }/M\n",
    "\n",
    "    Input: pred - predicted values (0,1)\n",
    "    actual - true labels \n",
    "    eps    - shift to avoid log(0)\n",
    "    Returns: Confusion matrix with [[true positive, false positive],[false negative, true negative]]\n",
    "    log-loss - average log-loss\n",
    "    \"\"\"\n",
    "    actual=np.reshape(actual,(len(actual),1))\n",
    "    pred=np.reshape(pred,(len(actual),1))    \n",
    "    print(pred.shape,actual.shape)\n",
    "    tp = np.mean((pred==True)&(actual==True))\n",
    "    tn = np.mean((pred==False)&(actual==False))\n",
    "    fp = np.mean((pred==True)&(actual==False))    \n",
    "    fn = np.mean((pred==False)&(actual==True))            \n",
    "    scores=np.matrix([[tp,fp],[fn,tn]])\n",
    "    print(\"True Positive {}. False Positive {}\".format(tp,fp))\n",
    "    print(\"False Negative {}. True Negative {}\".format(fn,tn))\n",
    "    pred_num=pred.astype(float)\n",
    "    logloss=log_loss(actual,pred_num,eps=epsilon,normalize=True)    \n",
    "    #give zero a small correction.\n",
    "    #pred_num[pred==False]=epsilon\n",
    "    #pred_num[pred==True]=1-epsilon\n",
    "    #my (initial) wrong attempt\n",
    "    #logloss2=-np.mean(np.multiply(actual,np.log(pred_num)))\n",
    "    # logloss2=-np.mean(np.multiply(actual,np.log(pred_num))\\\n",
    "    #     +np.multiply(1-actual,np.log(1-pred_num)))\n",
    "    # print(logloss2)\n",
    "    auroc = roc_auc_score(actual,pred)\n",
    "    #logloss=0\n",
    "    print(\"Log-loss is {}\".format(logloss))\n",
    "    print(\"AUROC is {}\".format(auroc))    \n",
    "    return scores,logloss\n"
   ]
  },
  {
   "cell_type": "code",
   "execution_count": 281,
   "metadata": {
    "autoscroll": false,
    "collapsed": false,
    "ein.tags": "worksheet-0",
    "slideshow": {
     "slide_type": "-"
    }
   },
   "outputs": [
    {
     "name": "stdout",
     "output_type": "stream",
     "text": [
      "(95554, 1) (95554, 1)\n",
      "True Positive 0.0962597065533625. False Positive 0.004510538543650711\n",
      "False Negative 0.0004290767524122486. True Negative 0.8988006781505745\n",
      "Log-loss is 0.17061187480262835\n",
      "AUROC is 0.9952844759687263\n"
     ]
    }
   ],
   "source": [
    "logloss,score_rates=check_predictions(pred,actual)"
   ]
  },
  {
   "cell_type": "markdown",
   "metadata": {
    "ein.tags": "worksheet-0",
    "slideshow": {
     "slide_type": "-"
    }
   },
   "source": [
    "Interesting. The mean log-loss is surprisingly sensitive to the chosen zero-offset.  I think this reflects the fact that the naive-bayes method is returning a lot of incredibly small probabilities (10^{-100})."
   ]
  },
  {
   "cell_type": "code",
   "execution_count": 282,
   "metadata": {
    "autoscroll": false,
    "collapsed": false,
    "ein.tags": "worksheet-0",
    "slideshow": {
     "slide_type": "-"
    }
   },
   "outputs": [
    {
     "data": {
      "text/plain": [
       "MultinomialNB(alpha=0.01, class_prior=None, fit_prior=True)"
      ]
     },
     "execution_count": 282,
     "metadata": {},
     "output_type": "execute_result"
    }
   ],
   "source": [
    "from sklearn.naive_bayes import MultinomialNB\n",
    "\n",
    "nb = MultinomialNB(alpha=0.01)\n",
    "nb.fit(X_train_counts,df_train['toxic'].values)"
   ]
  },
  {
   "cell_type": "code",
   "execution_count": 283,
   "metadata": {
    "autoscroll": false,
    "collapsed": false,
    "ein.tags": "worksheet-0",
    "slideshow": {
     "slide_type": "-"
    }
   },
   "outputs": [
    {
     "name": "stdout",
     "output_type": "stream",
     "text": [
      "(95554, 1) (95554, 1)\n",
      "True Positive 0.0962597065533625. False Positive 0.004510538543650711\n",
      "False Negative 0.0004290767524122486. True Negative 0.8988006781505745\n",
      "Log-loss is 0.17061187480262835\n",
      "AUROC is 0.9952844759687263\n"
     ]
    }
   ],
   "source": [
    "pred_nb=nb.predict(X_train_counts)\n",
    "pred_dev_nb=nb.predict(X_dev_counts)\n",
    "nb_stats=check_predictions(pred_nb,actual)"
   ]
  },
  {
   "cell_type": "code",
   "execution_count": 286,
   "metadata": {
    "autoscroll": false,
    "collapsed": false,
    "ein.tags": "worksheet-0",
    "slideshow": {
     "slide_type": "-"
    }
   },
   "outputs": [
    {
     "name": "stdout",
     "output_type": "stream",
     "text": [
      "(32083, 1) (32083, 1)\n",
      "True Positive 0.05784995168780974. False Positive 0.021163856247857122\n",
      "False Negative 0.03774584671009569. True Negative 0.8832403453542375\n",
      "Log-loss is 2.03468598052041\n",
      "AUROC is 0.7908753658415774\n"
     ]
    }
   ],
   "source": [
    "#Dev_set including 2-grams.  Evidently this is enough to overfit \n",
    "# the data, since performance is much worse than training set.\n",
    "nb_stats=check_predictions(pred_dev_nb,actual_dev)"
   ]
  },
  {
   "cell_type": "markdown",
   "metadata": {
    "ein.tags": "worksheet-0",
    "slideshow": {
     "slide_type": "-"
    }
   },
   "source": [
    "In the Kaggle case, this can be extended to multiple classes by training multiple such classifiers (since each one is independent of the others)."
   ]
  },
  {
   "cell_type": "markdown",
   "metadata": {
    "ein.tags": "worksheet-0",
    "slideshow": {
     "slide_type": "-"
    }
   },
   "source": [
    "## Naive Bayes False Positives and Negatives\n",
    "\n",
    "Let's now look a bit at the misclassified results."
   ]
  },
  {
   "cell_type": "code",
   "execution_count": 287,
   "metadata": {
    "autoscroll": false,
    "collapsed": false,
    "ein.tags": "worksheet-0",
    "slideshow": {
     "slide_type": "-"
    }
   },
   "outputs": [],
   "source": [
    "#fixing shapes to avoid broadcasting\n",
    "actual=np.reshape(actual,(len(actual),1))\n",
    "pred=np.reshape(pred,(len(actual),1))    \n",
    "\n",
    "fp_msk = ((pred==True)&(actual==False))    \n",
    "fn_msk = ((pred==False)&(actual==True))            "
   ]
  },
  {
   "cell_type": "code",
   "execution_count": 288,
   "metadata": {
    "autoscroll": false,
    "collapsed": false,
    "ein.tags": "worksheet-0",
    "slideshow": {
     "slide_type": "-"
    }
   },
   "outputs": [],
   "source": [
    "df_fn=df_train[fn_msk][['comment_clean','mean_toxic','median_toxic','toxic']]\n",
    "df_fp=df_train[fp_msk][['comment_clean','mean_toxic','median_toxic','toxic']]"
   ]
  },
  {
   "cell_type": "code",
   "execution_count": 289,
   "metadata": {
    "autoscroll": false,
    "collapsed": false,
    "ein.tags": "worksheet-0",
    "slideshow": {
     "slide_type": "-"
    }
   },
   "outputs": [
    {
     "data": {
      "text/plain": [
       "                                                                                            comment_clean  \\\n952                                                                                  Stop the vandalism.    \n1438                                                                         or to call people to action    \n1537                                                 Quit vandalizing the pages or you will be blocked.-    \n2493   BIG BALLS BIG BALLS ive got big balls youve got big balls shes got big balls theyve got big bal...   \n2761                                                                  Please stop vandalizing Wikipedia.    \n\n      mean_toxic  median_toxic  toxic  \n952          0.2           0.0  False  \n1438         0.0           0.0  False  \n1537        -0.1           0.0  False  \n2493        -0.5          -0.5  False  \n2761        -0.1           0.0  False  "
      ]
     },
     "execution_count": 289,
     "metadata": {},
     "output_type": "execute_result"
    }
   ],
   "source": [
    "df_fp.head()"
   ]
  },
  {
   "cell_type": "code",
   "execution_count": 290,
   "metadata": {
    "autoscroll": false,
    "collapsed": false,
    "ein.tags": "worksheet-0",
    "slideshow": {
     "slide_type": "-"
    }
   },
   "outputs": [],
   "source": [
    "ind=df_fn.index.values"
   ]
  },
  {
   "cell_type": "code",
   "execution_count": 291,
   "metadata": {
    "autoscroll": false,
    "collapsed": false,
    "ein.tags": "worksheet-0",
    "slideshow": {
     "slide_type": "-"
    }
   },
   "outputs": [
    {
     "data": {
      "text/plain": [
       "                                                                                             comment_clean  \\\n4603                                                                      You're not very bright, are you    \n7449    Shut up you liar. Why aren't you abiding by wikipedia policies that content must be based on ve...   \n8737                                        Thanks Thanks for participating in the conspiracy against me.    \n14382  Welcome Faggot! Welcome! Hello, , and welcome to Wikipedia! Thank you for your contributions. I ...   \n33504                                                                                  You. I despise you.   \n\n       mean_toxic  median_toxic  toxic  \n4603         -0.6          -1.0   True  \n7449         -0.8          -1.0   True  \n8737         -0.4          -1.0   True  \n14382        -0.5          -1.0   True  \n33504        -0.9          -1.0   True  "
      ]
     },
     "execution_count": 291,
     "metadata": {},
     "output_type": "execute_result"
    }
   ],
   "source": [
    "df_fn.head()"
   ]
  },
  {
   "cell_type": "markdown",
   "metadata": {
    "ein.tags": "worksheet-0",
    "slideshow": {
     "slide_type": "-"
    }
   },
   "source": [
    "So false negatives.  Much more spacing/characters being used to avoid the filter.\n",
    "The false negatives in the larger set seem to be more rules-lawyering, whinging about admnistration, and sidestepping filters. e.g. f:)u:)c:)k:).\n",
    "This is a bit harder for the classifier to find."
   ]
  },
  {
   "cell_type": "markdown",
   "metadata": {
    "ein.tags": "worksheet-0",
    "slideshow": {
     "slide_type": "-"
    }
   },
   "source": [
    "So at least the \"false positives\" are because the people using the rating scale are wildly inconsistent.  These are \"-1\" on the toxicity scale, and so \"non-toxic\" under the rule where toxic comments have median toxicity less than -1.\n",
    "Some are \"neutral\" but have lots of repitition.  I can't for the life of me imagine any of these comments adding anything to the discussion."
   ]
  },
  {
   "cell_type": "markdown",
   "metadata": {
    "ein.tags": "worksheet-0",
    "slideshow": {
     "slide_type": "-"
    }
   },
   "source": [
    "# Dimensionality Reduction\n",
    "\n",
    "Let's use the truncated SVD for dimensionality reduction (or latent semantic analysis?)\n",
    "Apparently TF-IDF matrix is superior to straight term frequency matrix for this purpose  (more closely matches assumptions in the SVD about the noise.)\n",
    "Should maybe also symmetrize transformation (as suggested in paper comparing hyperparameters between word2vec and older SVD methods).\n",
    "They suggest using $T=U \\Lambda V = (U \\Lambda^{1/2}) (\\Lambda^{1/2} V)$ for the projection.  "
   ]
  },
  {
   "cell_type": "code",
   "execution_count": 156,
   "metadata": {
    "autoscroll": false,
    "collapsed": false,
    "ein.tags": "worksheet-0",
    "slideshow": {
     "slide_type": "-"
    }
   },
   "outputs": [
    {
     "data": {
      "text/plain": [
       "TruncatedSVD(algorithm='randomized', n_components=100, n_iter=20,\n       random_state=None, tol=0.0)"
      ]
     },
     "execution_count": 156,
     "metadata": {},
     "output_type": "execute_result"
    }
   ],
   "source": [
    "from sklearn.decomposition import TruncatedSVD\n",
    "#took a minute or two\n",
    "TSVD=TruncatedSVD(n_components=100,n_iter=20)\n",
    "TSVD.fit(X_train_tfidf)"
   ]
  },
  {
   "cell_type": "code",
   "execution_count": 157,
   "metadata": {
    "autoscroll": false,
    "collapsed": false,
    "ein.tags": "worksheet-0",
    "slideshow": {
     "slide_type": "-"
    }
   },
   "outputs": [],
   "source": [
    "#actually transform the results \n",
    "X_train_trans=TSVD.transform(X_train_tfidf)"
   ]
  },
  {
   "cell_type": "code",
   "execution_count": 158,
   "metadata": {
    "autoscroll": false,
    "collapsed": false,
    "ein.tags": "worksheet-0",
    "slideshow": {
     "slide_type": "-"
    }
   },
   "outputs": [
    {
     "data": {
      "text/plain": [
       "<matplotlib.figure.Figure at 0x7f23955a12e8>"
      ]
     },
     "metadata": {},
     "output_type": "display_data"
    }
   ],
   "source": [
    "plt.plot(TSVD.explained_variance_)\n",
    "plt.xlabel('Singular value label')\n",
    "plt.ylabel('Singular value')\n",
    "plt.show()"
   ]
  },
  {
   "cell_type": "markdown",
   "metadata": {
    "ein.tags": "worksheet-0",
    "slideshow": {
     "slide_type": "-"
    }
   },
   "source": [
    "We will next use the transformed results in a \"deep\" neural network.  "
   ]
  },
  {
   "cell_type": "code",
   "execution_count": 188,
   "metadata": {
    "autoscroll": false,
    "collapsed": false,
    "ein.tags": "worksheet-0",
    "slideshow": {
     "slide_type": "-"
    }
   },
   "outputs": [],
   "source": [
    "#actually transform the dev/test data.\n",
    "X_dev_trans=TSVD.transform(X_dev_tfidf)"
   ]
  },
  {
   "cell_type": "markdown",
   "metadata": {
    "ein.tags": "worksheet-0",
    "slideshow": {
     "slide_type": "-"
    }
   },
   "source": [
    "# Support Vector Machine\n",
    "\n",
    "The one problem with the kernelized SVM is that it's training time scales as $O(n_{\\text{sample}}^\\alpha)$, with scaling exponent between 2 and 3.\n",
    "\n",
    "I've come across a couple approximate methods.  The first is a bagged model using an ensemble of SVM's based on subsets of the data. That leverages the existing (presumably smarter) scikit-learn code, in a way that could scale up.  Each classifier is then part of an ensemble, and we determine the class by majority vote. \n",
    "This in essence assumes that the Kernel matrix is block-diagonal, since this ensemble misses any correlations between the different subsets.\n",
    "One way would be to take multiple random batches of data.\n",
    "\n",
    "Or use an approximate kernel via Random Fourier Components.  The resulting SVM uses the linear library (but requires $N_{\\text{sample}}$ samples per Kernel estimate.)  This method can be applied to any method where the kernel function $K(x,y)$ has a known Fourier transform (which can be\n",
    "efficiently sampled from)."
   ]
  },
  {
   "cell_type": "code",
   "execution_count": 24,
   "metadata": {
    "autoscroll": false,
    "collapsed": false,
    "ein.tags": "worksheet-0",
    "slideshow": {
     "slide_type": "-"
    }
   },
   "outputs": [],
   "source": [
    "Nsub=1000\n",
    "np.random.seed(454)\n",
    "#Should really update to just use sklearn's stratified Kfold.\n",
    "def get_subset(frac_perc,dat_mat,labels):\n",
    "    \"\"\"get_subset(frac_perc,dat_mat,labels\n",
    "    Returns random subset of the data and labels.\n",
    "    Maintains same fraction of toxic/non-toxic data as the full dataset.\n",
    "    Input: \n",
    "    frac_perc: fraction of data to extract\n",
    "    dat_mat: input data \n",
    "    labels:  corresponding labels.\n",
    "    Returns:\n",
    "    ind_sub: indices used for extraction\n",
    "    Xsub : random subarray\n",
    "    label_sub: corresponding labels for Xsub\n",
    "    \"\"\" \n",
    "    #make vector and sample indices for true/false.\n",
    "    nvec=np.arange(len(labels))\n",
    "    #get the indices for true/false\n",
    "    Tvec=nvec[labels]\n",
    "    Cvec=nvec[~labels]\n",
    "    #grab a random shuffling of those indices.\n",
    "    np.random.shuffle(Tvec)\n",
    "    np.random.shuffle(Cvec)\n",
    "    #grab some fraction of them.\n",
    "    it = int(len(Tvec)*frac_perc)\n",
    "    ic = int(len(Cvec)*frac_perc)\n",
    "    ind_sub=np.append(Tvec[:it],Cvec[:ic])\n",
    "    Xsub = dat_mat[ind_sub]\n",
    "    label_sub = labels[ind_sub].reshape((len(ind_sub),1))\n",
    "    return ind_sub,Xsub,label_sub"
   ]
  },
  {
   "cell_type": "code",
   "execution_count": 88,
   "metadata": {
    "autoscroll": false,
    "collapsed": false,
    "ein.tags": "worksheet-0",
    "slideshow": {
     "slide_type": "-"
    }
   },
   "outputs": [
    {
     "name": "stdout",
     "output_type": "stream",
     "text": [
      "Automatic pdb calling has been turned OFF\n"
     ]
    }
   ],
   "source": [
    "%pdb off\n",
    "ind_sub,Xsub,label_sub=get_subset(0.01,X_train_counts,actual"
   ]
  },
  {
   "cell_type": "markdown",
   "metadata": {
    "ein.tags": "worksheet-0",
    "slideshow": {
     "slide_type": "-"
    }
   },
   "source": [
    "# SVM Ensemble"
   ]
  },
  {
   "cell_type": "markdown",
   "metadata": {
    "ein.tags": "worksheet-0",
    "slideshow": {
     "slide_type": "-"
    }
   },
   "source": [
    "Since apparently the training time for a SVM goes as $O(n_{sample}^{3})$, maybe it is better to train an ensemble of SVMs.\n",
    "In which case the training time is $O(n_{sample}^{3}/n_{ensemble^{2}})$ for the ensemble.  Then evaluating the results typically takes $O(n_sample)$ for all of the ensemble together.  (This is something like making the crude assumption that the kernels are block-diagonal, once appropriately sorted).  If we repeat this for multiple such random splits we can extract different correlations.\n",
    "The final choice is based on take a majority vote.\n",
    "\n",
    "Like any good idea, this ideas has been had before.  A similar idea is available here:(https://stackoverflow.com/questions/31681373/making-svm-run-faster-in-python), which suggests\n",
    "using a BaggingClassifier to automate the whole process.  \n",
    "Of course, Random Forests are another option, with a similar goal.    "
   ]
  },
  {
   "cell_type": "code",
   "execution_count": 19,
   "metadata": {
    "autoscroll": false,
    "collapsed": false,
    "ein.tags": "worksheet-0",
    "slideshow": {
     "slide_type": "-"
    }
   },
   "outputs": [],
   "source": [
    "from sklearn.svm import SVC\n",
    "#just use bagging classifier on the whole list of SVMs\n",
    "from sklearn.ensemble import BaggingClassifier\n",
    "\n",
    "nfeature,nobs=X_train_counts.shape"
   ]
  },
  {
   "cell_type": "code",
   "execution_count": null,
   "metadata": {
    "autoscroll": false,
    "collapsed": false,
    "ein.tags": "worksheet-0",
    "slideshow": {
     "slide_type": "-"
    }
   },
   "outputs": [],
   "source": [
    "#Try to determine parameters gamma/C via cross-validation.\n",
    "#Note that there is no need for explicit regularization?  Apparently in large dimensions, the parameters C/gamma (for penalty radius and width of basis function do a decent job in regularizing), since l1, l2 regularization don't work.  "
   ]
  },
  {
   "cell_type": "code",
   "execution_count": 21,
   "metadata": {
    "autoscroll": false,
    "collapsed": false,
    "ein.tags": "worksheet-0",
    "slideshow": {
     "slide_type": "-"
    }
   },
   "outputs": [],
   "source": [
    "#make the SVM model\n",
    "svm=SVC(cache_size=750,gamma=0.01,C=10,class_weight='balanced')\n",
    "#The bagging classifier of those\n",
    "ensemble_svm=BaggingClassifier(svm,n_estimators=10,\n",
    "bootstrap=False,n_jobs=3,max_samples=0.1,oob_score=False,verbose=True)"
   ]
  },
  {
   "cell_type": "code",
   "execution_count": 77,
   "metadata": {
    "autoscroll": false,
    "collapsed": false,
    "ein.tags": "worksheet-0",
    "slideshow": {
     "slide_type": "-"
    }
   },
   "outputs": [],
   "source": [
    "frac_perc=0.2\n",
    "#svm=SVC(cache_size=1000,verbose=True,gamma=0.1,C=0.5,class_weight='balanced')\n",
    "indsub,Xsub,label_sub=get_subset(frac_perc,X_train_counts,df_train['toxic'].values)\n"
   ]
  },
  {
   "cell_type": "code",
   "execution_count": 111,
   "metadata": {
    "autoscroll": false,
    "collapsed": false,
    "ein.tags": "worksheet-0",
    "slideshow": {
     "slide_type": "-"
    }
   },
   "outputs": [
    {
     "name": "stderr",
     "output_type": "stream",
     "text": [
      "[Parallel(n_jobs=3)]: Done   3 out of   3 | elapsed:    3.8s finished\n"
     ]
    },
    {
     "name": "stdout",
     "output_type": "stream",
     "text": [
      "Time Elapsed: 62.2320671081543\n",
      "(15288, 1) (15288, 1)\n",
      "True Positive 0.03270538984824699. False Positive 0.0005232862375719519\n",
      "False Negative 0.06397174254317112. True Negative 0.9027995813710099\n",
      "Log-loss is 2.227579796059745\n",
      "AUROC is 0.6688578514324013\n"
     ]
    },
    {
     "name": "stderr",
     "output_type": "stream",
     "text": [
      "[Parallel(n_jobs=3)]: Done   3 out of   3 | elapsed:   20.2s finished\n"
     ]
    }
   ],
   "source": [
    "t0=time.time()\n",
    "#use the ravel for reshaping?\n",
    "ensemble_svm.fit(Xsub,label_sub.ravel())\n",
    "svm_pred=ensemble_svm.predict(Xsub)\n",
    "#test on a different subset of the training data\n",
    "t1=time.time()\n",
    "print('Time Elapsed:',t1-t0)\n",
    "svm_stats=check_predictions(svm_pred,label_sub)"
   ]
  },
  {
   "cell_type": "code",
   "execution_count": 110,
   "metadata": {
    "autoscroll": false,
    "collapsed": false,
    "ein.tags": "worksheet-0",
    "slideshow": {
     "slide_type": "-"
    }
   },
   "outputs": [
    {
     "name": "stdout",
     "output_type": "stream",
     "text": [
      "(3821, 1) (3821, 1)\n",
      "True Positive 0.03245223763412719. False Positive 0.0010468463752944255\n",
      "False Negative 0.06411934048678357. True Negative 0.9023815755037948\n",
      "Log-loss is 2.25076119359395\n",
      "AUROC is 0.66744230594102\n"
     ]
    },
    {
     "name": "stderr",
     "output_type": "stream",
     "text": [
      "[Parallel(n_jobs=3)]: Done   3 out of   3 | elapsed:    4.5s finished\n"
     ]
    }
   ],
   "source": [
    "frac_perc=0.04\n",
    "#svm=SVC(cache_size=1000,verbose=True,gamma=0.1,C=0.5,class_weight='balanced')\n",
    "indsub2,Xsub2,label_sub2=get_subset(frac_perc,X_train_counts,df_train['toxic'].values)\n",
    "svm_pred2=ensemble_svm.predict(Xsub2)\n",
    "svm_stats2=check_predictions(svm_pred2,label_sub2)"
   ]
  },
  {
   "cell_type": "code",
   "execution_count": 80,
   "metadata": {
    "autoscroll": false,
    "collapsed": false,
    "ein.tags": "worksheet-0",
    "slideshow": {
     "slide_type": "-"
    }
   },
   "outputs": [],
   "source": [
    "#Use Cross-validation to split, estimate score.\n",
    "from sklearn.model_selection import GridSearchCV\n",
    "\n",
    "gam_arr=np.logspace(-2,2,6)\n",
    "C_arr=np.logspace(-2,2,6)\n",
    "param_grid=dict(base_estimator__gamma=gam_arr,base_estimator__C=C_arr)\n",
    "\n",
    "svm=SVC(cache_size=500,gamma=0.01,C=10,class_weight='balanced')\n",
    "#The bagging classifier of those\n",
    "\n",
    "ensemble_svm=BaggingClassifier(svm,n_estimators=10,\n",
    "bootstrap=False,n_jobs=2,max_samples=0.1,oob_score=False,verbose=True)\n",
    "\n",
    "#Uses stratified k-fold cross-validation.\n",
    "gridsearch_svm=GridSearchCV(ensemble_svm,param_grid,error_score=0,scoring='neg_log_loss',cv=5)\n",
    "\n",
    "#Then do grid search over that.  "
   ]
  },
  {
   "cell_type": "code",
   "execution_count": 135,
   "metadata": {
    "autoscroll": false,
    "collapsed": false,
    "ein.tags": "worksheet-0",
    "slideshow": {
     "slide_type": "-"
    }
   },
   "outputs": [
    {
     "name": "stdout",
     "output_type": "stream",
     "text": [
      "Automatic pdb calling has been turned OFF\n"
     ]
    }
   ],
   "source": [
    "%pdb off\n",
    "##So this search took around 5 hours on 2 cores, with 20% of data, 10 estimators.  \n",
    "#gridsearch_svm.fit(Xsub,label_sub.ravel())"
   ]
  },
  {
   "cell_type": "code",
   "execution_count": 83,
   "metadata": {
    "autoscroll": false,
    "collapsed": false,
    "ein.tags": "worksheet-0",
    "slideshow": {
     "slide_type": "-"
    }
   },
   "outputs": [
    {
     "data": {
      "text/plain": [
       "{'mean_fit_time': array([  8.515379  ,   9.01231294,   9.75185003,   9.73938398,   9.98681965,\n",
       "         10.32953625,   9.1302866 ,   9.20638032,   9.61401176,   9.70504975,\n",
       "         10.125845  ,  10.38082843,   8.5658195 ,   9.51361198,   9.58338413,\n",
       "          9.42688198,   9.7426013 ,   9.23867021,   5.23752804,   8.05332527,\n",
       "          8.26427064,   8.61298461,   8.92178097,   9.07002459,   4.95735879,\n",
       "          7.89778571,   8.14328508,   8.49073753,   8.82482314,   8.98313236,\n",
       "          5.27298045,   7.23655725,   8.26355944,   8.421489  ,   8.68758707,\n",
       "          8.9933918 ]),\n",
       " 'mean_score_time': array([ 16.90008068,  18.05262084,  19.87818789,  20.06860175,  20.97318258,\n",
       "         21.40729494,  17.89313512,  18.53377829,  19.04816036,  19.9470829 ,\n",
       "         21.13045225,  21.46793203,  16.92121625,  19.20889707,  18.34303741,\n",
       "         19.25774665,  19.23158917,  17.89144721,   7.61561131,  13.21875992,\n",
       "         16.03910851,  16.0835259 ,  17.37367401,  17.5949316 ,   6.19260755,\n",
       "         12.71468387,  15.98310966,  16.0452239 ,  17.41438856,  17.49364271,\n",
       "          6.12942586,  11.16674943,  15.96487865,  16.28454676,  17.12438517,\n",
       "         17.5315721 ]),\n",
       " 'mean_test_score': array([ -0.71580878,  -0.70329975,  -0.64666623,  -0.84030266,  -0.8436247 ,\n",
       "         -0.84038816,  -1.89615752, -10.65392048,  -0.86358376,  -0.71580878,\n",
       "         -0.97884358,  -0.63625162,  -1.23701811,  -1.8471173 ,  -3.05546166,\n",
       "         -3.31240949,  -3.30719932,  -3.31077077,  -0.99229367,  -2.05492054,\n",
       "         -3.14768134,  -3.31234772,  -3.31077919,  -3.31777803,  -1.2057978 ,\n",
       "         -2.06745151,  -3.08448554,  -3.31420447,  -3.31414998,  -3.31603013,\n",
       "         -1.20315073,  -1.83690545,  -3.10696299,  -3.31607536,  -3.31253991,\n",
       "         -3.31597578]),\n",
       " 'mean_train_score': array([ -0.71581757,  -0.70356566,  -0.64669311,  -0.84031327,  -0.84363947,\n",
       "         -0.84029311,  -1.86699012, -10.45613367,  -0.82586368,  -0.71581757,\n",
       "         -0.9787932 ,  -0.63628528,  -0.93725732,  -0.92228325,  -1.19868935,\n",
       "         -1.27110322,  -1.30793762,  -1.28658017,  -0.42571015,  -0.80877355,\n",
       "         -1.21720545,  -1.26650219,  -1.26979203,  -1.29651541,  -0.50364364,\n",
       "         -0.8118258 ,  -1.17911359,  -1.28167681,  -1.28146482,  -1.28826001,\n",
       "         -0.50058809,  -0.72165193,  -1.2294766 ,  -1.27575567,  -1.26497872,\n",
       "         -1.30750424]),\n",
       " 'param_base_estimator__C': masked_array(data = [0.01 0.01 0.01 0.01 0.01 0.01 0.063095734448019331 0.063095734448019331\n",
       "  0.063095734448019331 0.063095734448019331 0.063095734448019331\n",
       "  0.063095734448019331 0.39810717055349731 0.39810717055349731\n",
       "  0.39810717055349731 0.39810717055349731 0.39810717055349731 0.39810717055349731\n",
       "  2.5118864315095824 2.5118864315095824 2.5118864315095824 2.5118864315095824\n",
       "  2.5118864315095824 2.5118864315095824 15.848931924611142 15.848931924611142\n",
       "  15.848931924611142 15.848931924611142 15.848931924611142 15.848931924611142\n",
       "  100.0 100.0 100.0 100.0 100.0 100.0],\n",
       "              mask = [False False False False False False False False False False False False False\n",
       "  False False False False False False False False False False False False False\n",
       "  False False False False False False False False False False],\n",
       "        fill_value = ?),\n",
       " 'param_base_estimator__gamma': masked_array(data = [0.01 0.063095734448019331 0.39810717055349731 2.5118864315095824\n",
       "  15.848931924611142 100.0 0.01 0.063095734448019331 0.39810717055349731\n",
       "  2.5118864315095824 15.848931924611142 100.0 0.01 0.063095734448019331\n",
       "  0.39810717055349731 2.5118864315095824 15.848931924611142 100.0 0.01\n",
       "  0.063095734448019331 0.39810717055349731 2.5118864315095824 15.848931924611142\n",
       "  100.0 0.01 0.063095734448019331 0.39810717055349731 2.5118864315095824\n",
       "  15.848931924611142 100.0 0.01 0.063095734448019331 0.39810717055349731\n",
       "  2.5118864315095824 15.848931924611142 100.0],\n",
       "              mask = [False False False False False False False False False False False False False\n",
       "  False False False False False False False False False False False False False\n",
       "  False False False False False False False False False False],\n",
       "        fill_value = ?),\n",
       " 'params': [{'base_estimator__C': 0.01, 'base_estimator__gamma': 0.01},\n",
       "  {'base_estimator__C': 0.01, 'base_estimator__gamma': 0.063095734448019331},\n",
       "  {'base_estimator__C': 0.01, 'base_estimator__gamma': 0.39810717055349731},\n",
       "  {'base_estimator__C': 0.01, 'base_estimator__gamma': 2.5118864315095824},\n",
       "  {'base_estimator__C': 0.01, 'base_estimator__gamma': 15.848931924611142},\n",
       "  {'base_estimator__C': 0.01, 'base_estimator__gamma': 100.0},\n",
       "  {'base_estimator__C': 0.063095734448019331, 'base_estimator__gamma': 0.01},\n",
       "  {'base_estimator__C': 0.063095734448019331,\n",
       "   'base_estimator__gamma': 0.063095734448019331},\n",
       "  {'base_estimator__C': 0.063095734448019331,\n",
       "   'base_estimator__gamma': 0.39810717055349731},\n",
       "  {'base_estimator__C': 0.063095734448019331,\n",
       "   'base_estimator__gamma': 2.5118864315095824},\n",
       "  {'base_estimator__C': 0.063095734448019331,\n",
       "   'base_estimator__gamma': 15.848931924611142},\n",
       "  {'base_estimator__C': 0.063095734448019331, 'base_estimator__gamma': 100.0},\n",
       "  {'base_estimator__C': 0.39810717055349731, 'base_estimator__gamma': 0.01},\n",
       "  {'base_estimator__C': 0.39810717055349731,\n",
       "   'base_estimator__gamma': 0.063095734448019331},\n",
       "  {'base_estimator__C': 0.39810717055349731,\n",
       "   'base_estimator__gamma': 0.39810717055349731},\n",
       "  {'base_estimator__C': 0.39810717055349731,\n",
       "   'base_estimator__gamma': 2.5118864315095824},\n",
       "  {'base_estimator__C': 0.39810717055349731,\n",
       "   'base_estimator__gamma': 15.848931924611142},\n",
       "  {'base_estimator__C': 0.39810717055349731, 'base_estimator__gamma': 100.0},\n",
       "  {'base_estimator__C': 2.5118864315095824, 'base_estimator__gamma': 0.01},\n",
       "  {'base_estimator__C': 2.5118864315095824,\n",
       "   'base_estimator__gamma': 0.063095734448019331},\n",
       "  {'base_estimator__C': 2.5118864315095824,\n",
       "   'base_estimator__gamma': 0.39810717055349731},\n",
       "  {'base_estimator__C': 2.5118864315095824,\n",
       "   'base_estimator__gamma': 2.5118864315095824},\n",
       "  {'base_estimator__C': 2.5118864315095824,\n",
       "   'base_estimator__gamma': 15.848931924611142},\n",
       "  {'base_estimator__C': 2.5118864315095824, 'base_estimator__gamma': 100.0},\n",
       "  {'base_estimator__C': 15.848931924611142, 'base_estimator__gamma': 0.01},\n",
       "  {'base_estimator__C': 15.848931924611142,\n",
       "   'base_estimator__gamma': 0.063095734448019331},\n",
       "  {'base_estimator__C': 15.848931924611142,\n",
       "   'base_estimator__gamma': 0.39810717055349731},\n",
       "  {'base_estimator__C': 15.848931924611142,\n",
       "   'base_estimator__gamma': 2.5118864315095824},\n",
       "  {'base_estimator__C': 15.848931924611142,\n",
       "   'base_estimator__gamma': 15.848931924611142},\n",
       "  {'base_estimator__C': 15.848931924611142, 'base_estimator__gamma': 100.0},\n",
       "  {'base_estimator__C': 100.0, 'base_estimator__gamma': 0.01},\n",
       "  {'base_estimator__C': 100.0, 'base_estimator__gamma': 0.063095734448019331},\n",
       "  {'base_estimator__C': 100.0, 'base_estimator__gamma': 0.39810717055349731},\n",
       "  {'base_estimator__C': 100.0, 'base_estimator__gamma': 2.5118864315095824},\n",
       "  {'base_estimator__C': 100.0, 'base_estimator__gamma': 15.848931924611142},\n",
       "  {'base_estimator__C': 100.0, 'base_estimator__gamma': 100.0}],\n",
       " 'rank_test_score': array([ 5,  3,  2,  6,  8,  7, 17, 36,  9,  4, 10,  1, 14, 16, 20, 28, 24, 25,\n",
       "        11, 18, 23, 27, 26, 35, 13, 19, 21, 31, 30, 33, 12, 15, 22, 34, 29, 32], dtype=int32),\n",
       " 'split0_test_score': array([ -0.87704875,  -0.87704875,  -0.87704875,  -0.87704875,  -0.43867866,\n",
       "         -0.43867866,  -1.42500013, -11.3424326 ,  -0.36665192,  -0.87704875,\n",
       "         -1.12196909,  -0.87704875,  -1.37291082,  -1.81217138,  -3.03015315,\n",
       "         -3.31693458,  -3.30823517,  -3.30848105,  -1.03159586,  -2.00505149,\n",
       "         -3.15950878,  -3.31666734,  -3.31714965,  -3.30822867,  -1.22940648,\n",
       "         -2.09010226,  -3.06855658,  -3.31738608,  -3.31716978,  -3.3171467 ,\n",
       "         -1.26912281,  -1.79068715,  -3.05373122,  -3.31684865,  -3.32504735,\n",
       "         -3.30848105]),\n",
       " 'split0_train_score': array([ -0.87711549,  -0.87711549,  -0.87711549,  -0.87711549,  -0.4385392 ,\n",
       "         -0.4385392 ,  -1.39068737, -10.96370345,  -0.36254854,  -0.87711549,\n",
       "         -1.12210854,  -0.87711549,  -1.02908859,  -0.88602357,  -1.14068609,\n",
       "         -1.38664046,  -1.30489494,  -1.28670978,  -0.44422661,  -0.77495283,\n",
       "         -1.12382935,  -1.28540492,  -1.29352747,  -1.36786968,  -0.5139841 ,\n",
       "         -0.81635674,  -1.13929845,  -1.26598151,  -1.26098839,  -1.25747308,\n",
       "         -0.55341567,  -0.73058688,  -1.21429081,  -1.2405029 ,  -1.27568866,\n",
       "         -1.32256822]),\n",
       " 'split1_test_score': array([ -0.69314718,  -0.69314718,  -0.43867866,  -0.87704875,  -0.87704875,\n",
       "         -0.35731277,  -4.45995781, -10.86063741,  -0.32217813,  -0.69314718,\n",
       "         -0.69309949,  -0.87704875,  -1.27296641,  -2.24403555,  -3.11704334,\n",
       "         -3.3086941 ,  -3.30866236,  -3.30848553,  -1.02715101,  -2.08866793,\n",
       "         -3.17713868,  -3.30856048,  -3.30842268,  -3.31716759,  -1.13448077,\n",
       "         -2.05450971,  -3.15344822,  -3.30837917,  -3.30806006,  -3.30851279,\n",
       "         -1.18551875,  -1.88021637,  -3.13717043,  -3.30877289,  -3.30052203,\n",
       "         -3.31745715]),\n",
       " 'split1_train_score': array([ -0.69314718,  -0.69314718,  -0.4385392 ,  -0.87711549,  -0.87711549,\n",
       "         -0.3570846 ,  -4.48207223, -10.62419525,  -0.31421916,  -0.69314718,\n",
       "         -0.69308755,  -0.87711549,  -0.99328572,  -1.15203573,  -1.21720009,\n",
       "         -1.20289982,  -1.3104003 ,  -1.28868225,  -0.4477432 ,  -0.84190458,\n",
       "         -1.23011376,  -1.34231229,  -1.2909988 ,  -1.26584836,  -0.49661282,\n",
       "         -0.74434562,  -1.16849905,  -1.26571256,  -1.25284298,  -1.27270467,\n",
       "         -0.49722094,  -0.70184862,  -1.15518281,  -1.28024216,  -1.23578349,\n",
       "         -1.27753912]),\n",
       " 'split2_test_score': array([-0.69314718, -0.5540721 , -0.43847843, -0.69314718, -0.54997178,\n",
       "        -2.09045117, -1.08436048, -9.75059853, -0.69465067, -0.69314718,\n",
       "        -2.09045117, -0.43847843, -1.26271409, -1.7360863 , -3.0170738 ,\n",
       "        -3.3085045 , -3.29994389, -3.3005496 , -1.04085649, -2.03904439,\n",
       "        -3.09081128, -3.299612  , -3.30018689, -3.33459144, -1.14244727,\n",
       "        -2.0321922 , -3.03251709, -3.30892559, -3.30015607, -3.30898398,\n",
       "        -1.09518301, -1.86279079, -3.0830193 , -3.30934669, -3.30037236,\n",
       "        -3.30895316]),\n",
       " 'split2_train_score': array([-0.69314718, -0.55488216, -0.43858927, -0.69314718, -0.55002483,\n",
       "        -2.09016372, -1.10164482, -9.83339124, -0.69575575, -0.69314718,\n",
       "        -2.09016372, -0.43858927, -1.00924597, -0.8943078 , -1.20490656,\n",
       "        -1.33665106, -1.29788789, -1.31336584, -0.44267475, -0.84877256,\n",
       "        -1.21267506, -1.30038491, -1.29752614, -1.28344367, -0.48717521,\n",
       "        -0.82295263, -1.17283544, -1.26334477, -1.29925669, -1.27940845,\n",
       "        -0.50071869, -0.70404551, -1.24847786, -1.26466208, -1.22340563,\n",
       "        -1.26700167]),\n",
       " 'split3_test_score': array([-0.87713433, -0.69314718, -1.12214791, -0.87713433, -1.47556128,\n",
       "        -0.87713433, -0.98359049, -9.19306489, -2.61842949, -0.43849984,\n",
       "        -0.54998203, -0.54998203, -1.00203631, -1.63342622, -3.08733405,\n",
       "        -3.31840336, -3.30937037, -3.3183268 , -1.00720047, -2.03616286,\n",
       "        -3.13274428, -3.31831089, -3.3179003 , -3.31866626, -1.25011717,\n",
       "        -1.99356714, -3.04938641, -3.30922397, -3.30990513, -3.31840209,\n",
       "        -1.31131248, -1.78916568, -3.15849207, -3.31830345, -3.31816976,\n",
       "        -3.31788224]),\n",
       " 'split3_train_score': array([-0.87709409, -0.69314718, -1.12206383, -0.87709409, -1.47542371,\n",
       "        -0.87709409, -0.96288012, -9.33330586, -2.43887079, -0.43858391,\n",
       "        -0.55002226, -0.55002226, -0.7380188 , -0.82705989, -1.18183466,\n",
       "        -1.21570424, -1.30597833, -1.28831942, -0.44908856, -0.77410907,\n",
       "        -1.24539366, -1.21751727, -1.20827711, -1.28967043, -0.52795972,\n",
       "        -0.84506741, -1.20982213, -1.24630525, -1.32106713, -1.37197192,\n",
       "        -0.46413247, -0.77517203, -1.26626265, -1.28366249, -1.29995417,\n",
       "        -1.34432665]),\n",
       " 'split4_test_score': array([ -0.43849984,  -0.69903698,  -0.35702019,  -0.87713433,  -0.87713433,\n",
       "         -0.43849984,  -1.52699582, -12.12263678,  -0.31659629,  -0.87713433,\n",
       "         -0.43849984,  -0.43849984,  -1.27436626,  -1.80970666,  -3.025695  ,\n",
       "         -3.30951149,  -3.30978537,  -3.31801593,  -0.85461298,  -2.10568862,\n",
       "         -3.17819696,  -3.31859097,  -3.31023711,  -3.31023711,  -1.27257883,\n",
       "         -2.16689039,  -3.11850525,  -3.32711028,  -3.33546414,  -3.32711028,\n",
       "         -1.15461957,  -1.86166201,  -3.10242027,  -3.32711028,  -3.31859097,\n",
       "         -3.32711028]),\n",
       " 'split4_train_score': array([ -0.43858391,  -0.69953627,  -0.35715775,  -0.87709409,  -0.87709409,\n",
       "         -0.43858391,  -1.39766608, -11.52607258,  -0.31792415,  -0.87709409,\n",
       "         -0.43858391,  -0.43858391,  -0.9166475 ,  -0.85198923,  -1.24881935,\n",
       "         -1.21362053,  -1.32052661,  -1.25582358,  -0.34481763,  -0.80412873,\n",
       "         -1.27401541,  -1.18689153,  -1.25863062,  -1.27574489,  -0.49248634,\n",
       "         -0.83040662,  -1.20511289,  -1.36703995,  -1.27316892,  -1.25974191,\n",
       "         -0.48745267,  -0.6966066 ,  -1.26316889,  -1.3097087 ,  -1.29006167,\n",
       "         -1.32608552]),\n",
       " 'std_fit_time': array([ 0.25612311,  0.40797018,  0.01430292,  0.07180082,  0.05723591,\n",
       "         0.10841713,  0.28313762,  0.0727448 ,  0.31102707,  0.67346563,\n",
       "         0.07258312,  0.08912651,  0.08360285,  0.20985146,  0.66493143,\n",
       "         0.70834115,  1.03539217,  0.32378256,  0.17717752,  0.25480575,\n",
       "         0.10085472,  0.13068764,  0.16611329,  0.26060181,  0.31331754,\n",
       "         0.13475645,  0.09062662,  0.10021842,  0.15273362,  0.16846911,\n",
       "         0.29297818,  0.26581277,  0.1330419 ,  0.05575702,  0.09165637,\n",
       "         0.22922431]),\n",
       " 'std_score_time': array([ 0.728426  ,  1.39808469,  0.10727406,  0.1470467 ,  0.13147163,\n",
       "         0.14254813,  0.79870699,  0.18120523,  0.41152001,  0.49800089,\n",
       "         0.11621936,  0.18507796,  0.22293677,  0.25591367,  1.53217041,\n",
       "         1.93547984,  2.18060012,  0.26227302,  0.52834083,  0.25184484,\n",
       "         0.13871812,  0.0884704 ,  0.40891117,  0.37723907,  0.23371344,\n",
       "         0.20777505,  0.25067067,  0.09924382,  0.80812566,  0.23366787,\n",
       "         0.1324584 ,  0.52531133,  0.20586129,  0.14697613,  0.1738961 ,\n",
       "         0.20870189]),\n",
       " 'std_test_score': array([ 0.16120274,  0.10265459,  0.29986626,  0.07357775,  0.36103619,\n",
       "         0.65120121,  1.29804922,  1.06047258,  0.88842961,  0.16120274,\n",
       "         0.6022627 ,  0.20082187,  0.12411372,  0.20889512,  0.03951966,\n",
       "         0.00433248,  0.00366752,  0.00670071,  0.06970213,  0.03689794,\n",
       "         0.03285151,  0.00734476,  0.00647048,  0.00929427,  0.05671065,\n",
       "         0.0587655 ,  0.04494503,  0.00725603,  0.01195188,  0.00686706,\n",
       "         0.07793845,  0.03892116,  0.03740474,  0.00672181,  0.01017139,\n",
       "         0.00685968]),\n",
       " 'std_train_score': array([ 0.16119152,  0.10243012,  0.29984589,  0.07358304,  0.36102825,\n",
       "         0.65112177,  1.31825279,  0.78475365,  0.81892168,  0.16119152,\n",
       "         0.60215978,  0.200803  ,  0.10665391,  0.11738171,  0.03617396,\n",
       "         0.07572368,  0.00746513,  0.0182806 ,  0.04051238,  0.03182649,\n",
       "         0.05084917,  0.05655069,  0.03373705,  0.03655418,  0.01512167,\n",
       "         0.03506611,  0.02590871,  0.04330191,  0.02526741,  0.04263594,\n",
       "         0.02933823,  0.0292358 ,  0.04147194,  0.02280912,  0.03015899,\n",
       "         0.02988793])}"
      ]
     },
     "execution_count": 83,
     "metadata": {},
     "output_type": "execute_result"
    }
   ],
   "source": [
    "##Useful for getting parameters of bagged classifier.\n",
    "#ensemble_svm.get_params()\n",
    "gridsearch_svm.cv_results_"
   ]
  },
  {
   "cell_type": "code",
   "execution_count": 84,
   "metadata": {
    "autoscroll": false,
    "collapsed": false,
    "ein.tags": "worksheet-0",
    "slideshow": {
     "slide_type": "-"
    }
   },
   "outputs": [],
   "source": [
    "scores=gridsearch_svm.cv_results_['mean_test_score'].reshape(len(gam_arr),len(C_arr))"
   ]
  },
  {
   "cell_type": "code",
   "execution_count": 95,
   "metadata": {
    "autoscroll": false,
    "collapsed": false,
    "ein.tags": "worksheet-0",
    "slideshow": {
     "slide_type": "-"
    }
   },
   "outputs": [
    {
     "data": {
      "text/plain": [
       "{'base_estimator__C': 0.063095734448019331, 'base_estimator__gamma': 100.0}"
      ]
     },
     "execution_count": 95,
     "metadata": {},
     "output_type": "execute_result"
    }
   ],
   "source": [
    "#gridsearch_svm.best_params_\n",
    "#Results:{'base_estimator__C': 0.063095734448019331, 'base_estimator__gamma': 100.0}"
   ]
  },
  {
   "cell_type": "code",
   "execution_count": 94,
   "metadata": {
    "autoscroll": false,
    "collapsed": false,
    "ein.tags": "worksheet-0",
    "slideshow": {
     "slide_type": "-"
    }
   },
   "outputs": [
    {
     "data": {
      "text/plain": [
       "<matplotlib.figure.Figure at 0x7efbb1e17128>"
      ]
     },
     "metadata": {},
     "output_type": "display_data"
    }
   ],
   "source": [
    "plt.figure()\n",
    "plt.imshow(np.exp(scores))\n",
    "plt.xticks(np.arange(len(gam_arr)),gam_arr,rotation=90)\n",
    "plt.yticks(np.arange(len(C_arr)),C_arr)\n",
    "plt.xlabel('gamma')\n",
    "plt.ylabel('C')\n",
    "plt.colorbar()\n",
    "plt.show()"
   ]
  },
  {
   "cell_type": "markdown",
   "metadata": {
    "ein.tags": "worksheet-0",
    "slideshow": {
     "slide_type": "-"
    }
   },
   "source": [
    "So this search took 5 hours or so (on 2 cores).  And suggests the two regions woth exploring are $C>1, \\gamma\\ll 1$, and $C<1,\\gamma\\gg 1$. "
   ]
  },
  {
   "cell_type": "code",
   "execution_count": 113,
   "metadata": {
    "autoscroll": false,
    "collapsed": false,
    "ein.tags": "worksheet-0",
    "slideshow": {
     "slide_type": "-"
    }
   },
   "outputs": [
    {
     "name": "stdout",
     "output_type": "stream",
     "text": [
      "[LibSVM]"
     ]
    },
    {
     "name": "stdout",
     "output_type": "stream",
     "text": [
      "Training time 78.60097455978394\n",
      "(15288, 1) (15288, 1)\n",
      "True Positive 0.09641548927263213. False Positive 0.004120879120879121\n",
      "False Negative 0.00026164311878597594. True Negative 0.8992019884877027\n",
      "Log-loss is 0.15137025072587212\n",
      "AUROC is 0.9963658641979543\n"
     ]
    }
   ],
   "source": [
    "#Let's try to compare that with a full SVM on the same data.\n",
    "t0=time.time()\n",
    "full_svm=SVC(cache_size=1000,verbose=True,gamma=0.01,C=10,class_weight='balanced')\n",
    "full_svm.fit(Xsub,label_sub.ravel())\n",
    "full_svm_pred=full_svm.predict(Xsub)\n",
    "t1=time.time()\n",
    "print('Training time',t1-t0)\n",
    "svm_stats3=check_predictions(full_svm_pred,label_sub)"
   ]
  },
  {
   "cell_type": "markdown",
   "metadata": {
    "ein.tags": "worksheet-0",
    "slideshow": {
     "slide_type": "-"
    }
   },
   "source": [
    "## Randomized Fourier Features\n",
    "\n",
    "The Tensorflow documentation includes a great idea for extending Kernel machines: use an sinusoidal mapping from the original space to another linear space.  The mapping depends on a Gaussian random variable, so when we take expectation values over the Gaussian variable, the result\n",
    "of that expectation approximates the desired kernel.  Genius!\n",
    "Ideas here:(https://www.tensorflow.org/tutorials/kernel_methods,\n",
    "https://people.eecs.berkeley.edu/~brecht/papers/07.rah.rec.nips.pdf).\n",
    "See also scikit-learn's Kernel Approximations methods, which implement the RBF kernel described below. \n",
    "\n",
    "LinearSVMs work quickly, but their full kernel counterparts are slow to train, scaling as $O(n_{sample}^3)$.\n",
    "Instead, consider features like \n",
    "\\begin{equation}\n",
    "    z_{k}(\\mathbf{x})=\\cos(\\mathbf{\\omega}_{k}\\cdot\\mathbf{x}+b_{k}),\n",
    "\\end{equation}\n",
    "where $\\mathbf{x}\\in \\mathbb{R}^{d}, \\omega\\in \\mathbb{R}^{d},\\mathbf{b}_{k}\\in\\mathbb{R}$, and $\\omega_{k}$, is a random Gaussian vector drawn from\n",
    "\\begin{equation}\n",
    "    P(\\omega) = (2\\pi\\sigma^2)^{-d/2} \\exp\\left(-\\frac{\\mathbf{\\omega}^2}{2\\sigma^2}\\right),\n",
    "\\end{equation}\n",
    "and $b_{k}$ is a uniform random variable drawn from $[0,2\\pi)$.  Note that $z_{k}$ is a scalar.  But if we consider making $D$ draws of the random variables, then we can construct a vector $\\mathbf{z}(\\mathbf{x})=\\sqrt{\\frac{2}{D}}[z_{1},z_{2},\\ldots, z_{D}]$,\n",
    "\n",
    "The inner products on these new feature vectors for different input data are given y \n",
    "\\begin{equation}\n",
    "    \\mathbf{z}(\\mathbf{x})\\cdot\\mathbf{z}(\\mathbf{y})=\\frac{2}{D}\\sum_{k=1}^{D} \\cos(\\mathbf{\\omega}_{k}\\cdot\\mathbf{x}+b_{k})\\cos(\\mathbf{\\omega}_{k}\\cdot\\mathbf{y}+b_{k}).\n",
    "\\end{equation}\n",
    "This is essentially a Monte-Carlo estimate (with $D$ samples) of the probability distributions.  As $D\\rightarrow \\infty$, this converges to \n",
    "\\begin{align}\n",
    "    \\mathbf{z}(\\mathbf{x})\\cdot\\mathbf{z}(\\mathbf{y})&\\approx \\int d\\mathbf{\\omega}\\int db\\,P(\\omega)p(b)\n",
    "    2\\cos(\\mathbf{\\omega}\\cdot\\mathbf{x}+b)\\cos(\\mathbf{\\omega}\\cdot\\mathbf{y}+b)\\\\\n",
    "&=\\frac{1}{2\\pi}\\frac{1}{(2\\pi \\sigma^2)^{D/2}}\\int d\\mathbf{\\omega}\\int_0^{2\\pi} db\\,e^{-(\\mathbf{\\omega})^2/(2\\sigma^2)}\n",
    "    2\\cos(\\mathbf{\\omega}\\cdot\\mathbf{x}+b)\\cos(\\mathbf{\\omega}\\cdot\\mathbf{y}+b) \\\\\n",
    "&=\\frac{1}{2\\pi}\\frac{1}{(2\\pi \\sigma^2)^{D/2}}\\int d\\mathbf{\\omega}\\int_0^{2\\pi} db\\,e^{-(\\mathbf{\\omega})^2/(2\\sigma^2)}\n",
    "    \\bigg(\\cos[\\mathbf{\\omega}\\cdot(\\mathbf{x}+\\mathbf{y})+b]+\\cos[\\mathbf{\\omega}\\cdot(\\mathbf{x}-\\mathbf{y})]\\bigg),\n",
    "\\end{align}\n",
    "where we used a double-angle formula on the cosines.  The Gaussian and uniform integrals can be carried out, with the result\n",
    "\\begin{align}\n",
    "    \\mathbf{z}(\\mathbf{x})\\cdot\\mathbf{z}(\\mathbf{y})&\\approx \n",
    "&=\\,e^{-(\\mathbf{x-y})^2/(2\\sigma^2)}.\n",
    "\\end{align}\n",
    "The same idea can be extended for any $P(\\mathbf{\\omega})$ to get the desired kernel, provided it has a nice Fourier transform.\n",
    "\n",
    "One thing noted in the docs is that this works well for smooth data, but can require a lot of components if there is a significant random component, such as trying to detect fractal structures like forests in images.  \n"
   ]
  },
  {
   "cell_type": "markdown",
   "metadata": {
    "ein.tags": "worksheet-0",
    "slideshow": {
     "slide_type": "-"
    }
   },
   "source": [
    "# Deep Network\n",
    "\n",
    "Another idea is to build a deep neural network on the term-frequency matrix, effectively running with extensions to the Naive Bayes model.\n",
    "This will use the reduced term-frequency matrix after the Truncated SVD.  "
   ]
  },
  {
   "cell_type": "code",
   "execution_count": 136,
   "metadata": {
    "autoscroll": false,
    "collapsed": false,
    "ein.tags": "worksheet-0",
    "slideshow": {
     "slide_type": "-"
    }
   },
   "outputs": [],
   "source": [
    "import tensorflow as tf\n",
    "from tensorflow.contrib.layers import fully_connected, l2_regularizer\n",
    "from tensorflow.contrib.rnn import BasicRNNCell,LSTMCell"
   ]
  },
  {
   "cell_type": "code",
   "execution_count": 211,
   "metadata": {
    "autoscroll": false,
    "collapsed": false,
    "ein.tags": "worksheet-0",
    "slideshow": {
     "slide_type": "-"
    }
   },
   "outputs": [],
   "source": [
    "from deep_network import deep_dropout_NN"
   ]
  },
  {
   "cell_type": "code",
   "execution_count": 261,
   "metadata": {
    "autoscroll": false,
    "collapsed": false,
    "ein.tags": "worksheet-0",
    "slideshow": {
     "slide_type": "-"
    }
   },
   "outputs": [],
   "source": [
    "#Ignore the \"error about serializing - this is a known problem with saving models created using \n",
    "#modules like fully connected, since their components are not named.\n",
    "#The models are saved, and the computations work.\n",
    "\n",
    "actual=df_train['toxic'].astype(int).values\n",
    "save_name='./tf_models/deep_relu_drop'\n",
    "dNN=deep_dropout_NN(X_train_trans.shape)\n",
    "#dNN.run_graph(X_train_trans,actual,save_name)"
   ]
  },
  {
   "cell_type": "code",
   "execution_count": 267,
   "metadata": {
    "autoscroll": false,
    "collapsed": false,
    "ein.tags": "worksheet-0",
    "slideshow": {
     "slide_type": "-"
    }
   },
   "outputs": [
    {
     "name": "stdout",
     "output_type": "stream",
     "text": [
      "newer predict\n",
      "INFO:tensorflow:Restoring parameters from ./tf_models/deep_relu_drop-5000\n"
     ]
    }
   ],
   "source": [
    "#model_name='tf_models/deep_relu_drop-{}'.format(dNN.n_iter)\n",
    "model_name='./tf_models/deep_relu_drop-{}'.format(5000)\n",
    "dnn_pred2=dNN.predict_all(model_name,X_train_trans)"
   ]
  },
  {
   "cell_type": "code",
   "execution_count": 266,
   "metadata": {
    "autoscroll": false,
    "collapsed": false,
    "ein.tags": "worksheet-0",
    "slideshow": {
     "slide_type": "-"
    }
   },
   "outputs": [
    {
     "name": "stdout",
     "output_type": "stream",
     "text": [
      "(95554, 1) (95554, 1)\n",
      "True Positive 0.08374322372689788. False Positive 0.008204784729053729\n",
      "False Negative 0.012945559578876865. True Negative 0.8951064319651715\n",
      "Log-loss is 0.7305135732517722\n",
      "AUROC is 0.9285140205369825\n"
     ]
    }
   ],
   "source": [
    "dnn_conf=check_predictions(dnn_pred2,actual)"
   ]
  },
  {
   "cell_type": "code",
   "execution_count": 268,
   "metadata": {
    "autoscroll": false,
    "collapsed": false,
    "ein.tags": "worksheet-0",
    "slideshow": {
     "slide_type": "-"
    }
   },
   "outputs": [
    {
     "name": "stdout",
     "output_type": "stream",
     "text": [
      "(95554, 1) (95554, 1)\n",
      "True Positive 0.08339786926763924. False Positive 0.008110597149255917\n",
      "False Negative 0.013290914038135504. True Negative 0.8952006195449693\n",
      "Log-loss is 0.7391884946271304\n",
      "AUROC is 0.926780247594411\n"
     ]
    }
   ],
   "source": [
    "dnn_conf=check_predictions(dnn_pred2,actual)"
   ]
  },
  {
   "cell_type": "code",
   "execution_count": 256,
   "metadata": {
    "autoscroll": false,
    "collapsed": false,
    "ein.tags": "worksheet-0",
    "slideshow": {
     "slide_type": "-"
    }
   },
   "outputs": [
    {
     "name": "stdout",
     "output_type": "stream",
     "text": [
      "(95554, 1) (95554, 1)\n",
      "True Positive 0.08066642945350273. False Positive 0.006090796826925089\n",
      "False Negative 0.016022353852272013. True Negative 0.8972204198673002\n",
      "Log-loss is 0.7637660368812476\n",
      "AUROC is 0.9137733403321003\n"
     ]
    }
   ],
   "source": [
    "dnn_conf=check_predictions(dnn_pred,actual)"
   ]
  },
  {
   "cell_type": "code",
   "execution_count": 76,
   "metadata": {
    "autoscroll": false,
    "collapsed": false,
    "ein.tags": "worksheet-0",
    "slideshow": {
     "slide_type": "-"
    }
   },
   "outputs": [
    {
     "name": "stdout",
     "output_type": "stream",
     "text": [
      "(95554, 1) (95554, 1)\n",
      "True Positive 0.08529208615023966. False Positive 0.016461895891328463\n",
      "False Negative 0.01139669715553509. True Negative 0.8868493208028968\n",
      "Log-loss is 0.9622148788120853\n",
      "AUROC is 0.931953076744998\n"
     ]
    }
   ],
   "source": [
    "nb_conf=check_predictions(pred_nb,actual)"
   ]
  },
  {
   "cell_type": "code",
   "execution_count": null,
   "metadata": {
    "autoscroll": false,
    "collapsed": false,
    "ein.tags": "worksheet-0",
    "slideshow": {
     "slide_type": "-"
    }
   },
   "outputs": [],
   "source": [
    "## Predictions from Deep Neural Network\n",
    "\n",
    "Let's now run some predictions on the full training and development sets.  "
   ]
  },
  {
   "cell_type": "code",
   "execution_count": 259,
   "metadata": {
    "autoscroll": false,
    "collapsed": false,
    "ein.tags": "worksheet-0",
    "slideshow": {
     "slide_type": "-"
    }
   },
   "outputs": [
    {
     "name": "stdout",
     "output_type": "stream",
     "text": [
      "4 layer ReLU network: on Dev set\n",
      "(32083, 1) (32083, 1)\n",
      "True Positive 0.057818782532805535. False Positive 0.014711841161986098\n",
      "False Negative 0.0377770158650999. True Negative 0.8896923604401085\n",
      "Log-loss is 1.8129126596333467\n",
      "AUROC is 0.794279337602118\n"
     ]
    },
    {
     "name": "stdout",
     "output_type": "stream",
     "text": [
      "newer predict\n",
      "INFO:tensorflow:Restoring parameters from tf_models/deep_relu_drop-1000\n"
     ]
    },
    {
     "name": "stdout",
     "output_type": "stream",
     "text": [
      "4 layer ReLU network: on Dev set\n",
      "(95554, 1) (95554, 1)\n",
      "True Positive 0.06437197814848149. False Positive 0.00998388345856793\n",
      "False Negative 0.03231680515729326. True Negative 0.8933273332356573\n",
      "Log-loss is 1.461022008541531\n",
      "AUROC is 0.8273560765169565\n"
     ]
    },
    {
     "name": "stdout",
     "output_type": "stream",
     "text": [
      "newer predict\n",
      "INFO:tensorflow:Restoring parameters from tf_models/deep_relu_drop-1000\n"
     ]
    }
   ],
   "source": [
    "   #Try testing on the dev-set\n",
    "model_name='tf_models/deep_relu_drop-{}'.format(dNN.n_iter)\n",
    "nn_pred_train = dNN.predict_all(model_name,X_train_trans)\n",
    "print('4 layer ReLU network: on Dev set')\n",
    "actual_train=df_train['toxic'].values\n",
    "nn_stats=check_predictions(nn_pred_train,actual_train)\n",
    "\n",
    "nn_pred_dev = dNN.predict_all(model_name,X_dev_trans)\n",
    "print('4 layer ReLU network: on Dev set')\n",
    "actual_dev=df_dev['toxic'].values\n",
    "nn_stats=check_predictions(nn_pred_dev,actual_dev)"
   ]
  },
  {
   "cell_type": "code",
   "execution_count": 260,
   "metadata": {
    "autoscroll": false,
    "collapsed": false,
    "ein.tags": "worksheet-0",
    "slideshow": {
     "slide_type": "-"
    }
   },
   "outputs": [
    {
     "name": "stdout",
     "output_type": "stream",
     "text": [
      "Naive Bayes on Dev set\n",
      "(32083, 1) (32083, 1)\n",
      "True Positive 0.06299286226350403. False Positive 0.023501542873172708\n",
      "False Negative 0.0326029361344014. True Negative 0.8809026587289218\n",
      "Log-loss is 1.9377988469688499\n",
      "AUROC is 0.8164822255177966\n"
     ]
    }
   ],
   "source": [
    "print('Naive Bayes on Dev set')\n",
    "pred_dev_nb=nb.predict(X_dev_counts)\n",
    "nb_stats=check_predictions(pred_dev_nb,actual_dev)"
   ]
  },
  {
   "cell_type": "code",
   "execution_count": null,
   "metadata": {
    "autoscroll": false,
    "collapsed": false,
    "ein.tags": "worksheet-0",
    "slideshow": {
     "slide_type": "-"
    }
   },
   "outputs": [],
   "source": [
    "Evidently the (3-layer ReLU-tanh) network is over-fitting to the training set.  Not surprising, since there is no regularization here.\n",
    "It could outperform the Naive Bayes method on the training set, but had worse performance on the development dataset.\n",
    "\n",
    "Let's put in some dropout. Putting in dropout after each layer, with a 0.1 dropout probability improved performance."
   ]
  },
  {
   "cell_type": "code",
   "execution_count": 294,
   "metadata": {
    "autoscroll": false,
    "collapsed": false,
    "ein.tags": "worksheet-0",
    "slideshow": {
     "slide_type": "-"
    }
   },
   "outputs": [
    {
     "data": {
      "text/plain": [
       "[0.63848495096381463, 0.69363963655066008]"
      ]
     },
     "execution_count": 294,
     "metadata": {},
     "output_type": "execute_result"
    }
   ],
   "source": [
    "#dev scores\n",
    "[f1_score(actual_dev,nn_pred_dev),f1_score(actual_dev,pred_dev_nb)]"
   ]
  },
  {
   "cell_type": "code",
   "execution_count": 292,
   "metadata": {
    "autoscroll": false,
    "collapsed": false,
    "ein.tags": "worksheet-0",
    "slideshow": {
     "slide_type": "-"
    }
   },
   "outputs": [
    {
     "name": "stdout",
     "output_type": "stream",
     "text": [
      "[0.75269211943220748, 0.97498410006359981]\n",
      "[0.68780126065999259, 0.66262049268118539]\n"
     ]
    }
   ],
   "source": [
    "print([f1_score(actual,nn_pred_train),f1_score(actual,pred_nb)])\n",
    "print([f1_score(actual_dev,nn_pred_dev),f1_score(actual_dev,pred_dev_nb)])"
   ]
  },
  {
   "cell_type": "markdown",
   "metadata": {
    "ein.tags": "worksheet-0",
    "slideshow": {
     "slide_type": "-"
    }
   },
   "source": [
    "I am finding that beyond one or two layers, the network just seems to output zeros.  Maybe the learning rate was too high? Yes - this is a common problem."
   ]
  },
  {
   "cell_type": "markdown",
   "metadata": {
    "ein.tags": "worksheet-0",
    "slideshow": {
     "slide_type": "-"
    }
   },
   "source": [
    "# Recurrent Neural Network\n",
    "\n",
    "So let's try the current flavour of the month approach: a recurrent neural network.\n",
    "Based on talking to Joseph and Fahim at the group, they used a two-layer neural network based on the just the 2000 most common words, using ReLU activation.  (I think they said their approach was inspired by someone at Kaggle.)\n",
    "Let's try something similar, with initially a single layer leaky ReLU layer.\n",
    "\n",
    "The idea is that the network parses each word of the sentence (to better capture logical structure).\n",
    "Each word needs an index.  Initially this is an index in the vocabulary V, where $V\\sim10^6$ or more.  That's an infeasibly large matrix.\n",
    "We need some form of dimensionality reduction.  Either by picking the most distinctive words (which actually appear in multiple messages),\n",
    "or by projecting down via SVD. "
   ]
  }
 ],
 "metadata": {
  "kernelspec": {
   "display_name": "Python 3",
   "name": "python3"
  },
  "language_info": {
   "codemirror_mode": {
    "name": "ipython",
    "version": 3
   },
   "file_extension": ".py",
   "mimetype": "text/x-python",
   "name": "python",
   "nbconvert_exporter": "python",
   "pygments_lexer": "ipython3",
   "version": "3.6.3"
  },
  "name": "init_explore.ipynb"
 },
 "nbformat": 4,
 "nbformat_minor": 2
}
